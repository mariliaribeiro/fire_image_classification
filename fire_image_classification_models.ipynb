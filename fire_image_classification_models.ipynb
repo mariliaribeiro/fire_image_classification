{
  "nbformat": 4,
  "nbformat_minor": 0,
  "metadata": {
    "colab": {
      "provenance": [],
      "collapsed_sections": [
        "9MCJ0MB4NWgO",
        "sXTnVM4cNb4G",
        "k-EuL0XOH1-C"
      ]
    },
    "kernelspec": {
      "name": "python3",
      "display_name": "Python 3"
    },
    "language_info": {
      "name": "python"
    },
    "accelerator": "GPU",
    "gpuClass": "standard"
  },
  "cells": [
    {
      "cell_type": "markdown",
      "metadata": {
        "id": "7jaKS2GDX22n"
      },
      "source": [
        "# IDENTIFICAÇÃO DE FOGO EM IMAGENS UTILIZANDO TÉCNICAS DE CLASSIFICAÇÃO\n",
        "\n",
        "Um problema de visão computacional que utiliza uma abordagem de aprendizado supervisionada para classificar imagens de acordo com a presença e ausência de fogo.\n",
        "\n",
        "- **Descrição da base de dados:** A base de dados possui imagens com e sem fogo ao ar livre para tarefas de visão computacional. Ao todo são 999 imagens, onde 755 são de fogo ao ar livre podendo apresentar fumaça densa, e 244 não são de fogo e podem apresentar grama, estradas, árvores, florestas, lagos, rios, cachoeiras, animais e pessoas. \n",
        "\n",
        "\n",
        "- **Link da base de dados original:** https://www.kaggle.com/datasets/phylake1337/fire-dataset"
      ]
    },
    {
      "cell_type": "code",
      "execution_count": null,
      "metadata": {
        "id": "eYemlFfu33_5",
        "colab": {
          "base_uri": "https://localhost:8080/"
        },
        "outputId": "936379a6-ce69-4cfb-9e9d-c2563bce7147"
      },
      "outputs": [
        {
          "output_type": "stream",
          "name": "stdout",
          "text": [
            "Mounted at /gdrive\n"
          ]
        }
      ],
      "source": [
        "from google.colab import drive\n",
        "drive.mount('/gdrive')"
      ]
    },
    {
      "cell_type": "code",
      "source": [
        "!pip install tensorflow-addons"
      ],
      "metadata": {
        "colab": {
          "base_uri": "https://localhost:8080/"
        },
        "id": "J-TYVl7zl9yr",
        "outputId": "950d9b80-3974-47f2-9afc-9d8cd399302d"
      },
      "execution_count": null,
      "outputs": [
        {
          "output_type": "stream",
          "name": "stdout",
          "text": [
            "Looking in indexes: https://pypi.org/simple, https://us-python.pkg.dev/colab-wheels/public/simple/\n",
            "Collecting tensorflow-addons\n",
            "  Downloading tensorflow_addons-0.17.1-cp37-cp37m-manylinux_2_17_x86_64.manylinux2014_x86_64.whl (1.1 MB)\n",
            "\u001b[K     |████████████████████████████████| 1.1 MB 8.2 MB/s \n",
            "\u001b[?25hRequirement already satisfied: typeguard>=2.7 in /usr/local/lib/python3.7/dist-packages (from tensorflow-addons) (2.7.1)\n",
            "Requirement already satisfied: packaging in /usr/local/lib/python3.7/dist-packages (from tensorflow-addons) (21.3)\n",
            "Requirement already satisfied: pyparsing!=3.0.5,>=2.0.2 in /usr/local/lib/python3.7/dist-packages (from packaging->tensorflow-addons) (3.0.9)\n",
            "Installing collected packages: tensorflow-addons\n",
            "Successfully installed tensorflow-addons-0.17.1\n"
          ]
        }
      ]
    },
    {
      "cell_type": "code",
      "source": [
        "!pip install mlflow --quiet"
      ],
      "metadata": {
        "id": "UteicFR2iqTy",
        "colab": {
          "base_uri": "https://localhost:8080/"
        },
        "outputId": "2da99fe7-dad9-432b-860e-1bbaf2ef7584"
      },
      "execution_count": null,
      "outputs": [
        {
          "output_type": "stream",
          "name": "stdout",
          "text": [
            "\u001b[K     |████████████████████████████████| 17.0 MB 7.9 MB/s \n",
            "\u001b[K     |████████████████████████████████| 77 kB 7.9 MB/s \n",
            "\u001b[K     |████████████████████████████████| 79 kB 7.3 MB/s \n",
            "\u001b[K     |████████████████████████████████| 146 kB 73.0 MB/s \n",
            "\u001b[K     |████████████████████████████████| 181 kB 71.6 MB/s \n",
            "\u001b[K     |████████████████████████████████| 209 kB 56.8 MB/s \n",
            "\u001b[K     |████████████████████████████████| 78 kB 8.0 MB/s \n",
            "\u001b[K     |████████████████████████████████| 55 kB 3.9 MB/s \n",
            "\u001b[K     |████████████████████████████████| 63 kB 2.1 MB/s \n",
            "\u001b[K     |████████████████████████████████| 59 kB 6.9 MB/s \n",
            "\u001b[?25h  Building wheel for databricks-cli (setup.py) ... \u001b[?25l\u001b[?25hdone\n"
          ]
        }
      ]
    },
    {
      "cell_type": "code",
      "source": [
        "# !mlflow ui --port 5000\n",
        "get_ipython().system_raw(\"mlflow ui --port 5000 &\")"
      ],
      "metadata": {
        "id": "-lZ_SWJsH8vy"
      },
      "execution_count": null,
      "outputs": []
    },
    {
      "cell_type": "code",
      "source": [
        "#@title constants.py\n",
        "\n",
        "# import os\n",
        "# base_dir = os.path.realpath(__file__).split('/src')[0]\n",
        "\n",
        "# PREFIX_PATH = \"/content/\"\n",
        "# TMP_DIR_PATH = \"/tmp/models/\"\n",
        "# MODELS_OUTPUT_PATH = \"{}/models/\".format(base_dir)\n",
        "# PREFIX_PROCESSED_DATA_PATH = \"{}/data/processed/\".format(base_dir)\n",
        "# PREFIX_PATH_PERSONAL_IMAGES = \"{}/data/raw/personal_images/\".format(base_dir)\n",
        "\n",
        "\n",
        "\n",
        "PREFIX_PATH = \"/content/\"\n",
        "base_dir = \"/gdrive/MyDrive/Colab Notebooks/fire_image_classification\"\n",
        "TMP_DIR_PATH = \"/tmp/models/\"\n",
        "MODELS_OUTPUT_PATH = \"{}/models/\".format(base_dir)\n",
        "PREFIX_PROCESSED_DATA_PATH = \"{}/data/processed/\".format(base_dir)\n",
        "PREFIX_PATH_PERSONAL_IMAGES = \"{}/data/raw/personal_images/\".format(base_dir)\n",
        "\n",
        "IMG_HEIGHT = 100\n",
        "IMG_WIDTH = 100\n",
        "RESIZE_Y = 100\n",
        "RESIZE_X = 100\n",
        "RESIZE_Y = 100\n",
        "CHANNEL = 3\n",
        "FLATTEN_SHAPE = RESIZE_X * RESIZE_Y * CHANNEL\n",
        "COLUMNS_PIXELS = [\"pixel{}\".format(i) for i in range(0, FLATTEN_SHAPE)]\n",
        "\n",
        "COLOR_HIST_RANGE = range(0, 256)\n",
        "COLUMNS_HIST_B = [\"hist_b_{}\".format(i) for i in COLOR_HIST_RANGE]\n",
        "COLUMNS_HIST_G = [\"hist_g_{}\".format(i) for i in COLOR_HIST_RANGE]\n",
        "COLUMNS_HIST_R = [\"hist_r_{}\".format(i) for i in COLOR_HIST_RANGE]\n",
        "HIST_COLUMNS = COLUMNS_HIST_B + COLUMNS_HIST_G + COLUMNS_HIST_R\n",
        "\n",
        "TOTAL_PIXELS_COLUMNS = FLATTEN_SHAPE + (256 * 3)\n",
        "\n",
        "pixels_hist_columns = COLUMNS_PIXELS + COLUMNS_HIST_B + COLUMNS_HIST_G + COLUMNS_HIST_R\n",
        "desc_columns = [\n",
        "    \"image_path\",\n",
        "    \"label\",\n",
        "    \"label_name\",\n",
        "    \"source_shape\",\n",
        "    \"source_height\",\n",
        "    \"source_width\",\n",
        "    \"source_channel\",\n",
        "]\n",
        "COLUMNS_FULL_DF = desc_columns + pixels_hist_columns\n",
        "\n",
        "NOISES = [\"gaussian\", \"localvar\", \"poisson\", \"salt\", \"pepper\", \"s&p\", \"speckle\"]\n",
        "\n",
        "LABEL_DATA = {0: (0, \"Sem fogo\"), 1: (1, \"Com fogo\")}\n"
      ],
      "metadata": {
        "id": "OVcI6NhqjklO"
      },
      "execution_count": null,
      "outputs": []
    },
    {
      "cell_type": "code",
      "source": [
        "#@title input_output_processing.py\n",
        "\n",
        "import joblib\n",
        "import pandas as pd\n",
        "import tensorflow as tf\n",
        "from sklearn.metrics import accuracy_score, classification_report\n",
        "from sklearn.model_selection import train_test_split\n",
        "\n",
        "# from src.constants import (CHANNEL, COLUMNS_PIXELS, IMG_HEIGHT, IMG_WIDTH,\n",
        "#                            MODELS_OUTPUT_PATH, PREFIX_PROCESSED_DATA_PATH)\n",
        "\n",
        "\n",
        "def get_df_train_test(prefix_path=PREFIX_PROCESSED_DATA_PATH, df=None, split=True):\n",
        "    if split:\n",
        "        df_train, df_test = train_test_split(df, test_size=0.20, stratify=df[\"label\"])\n",
        "        df_train.to_csv(\"{}train_images.csv\".format(prefix_path), index=False)\n",
        "        df_test.to_csv(\"{}test_images.csv\".format(prefix_path), index=False)\n",
        "    else:\n",
        "        df_train = pd.read_csv(\"{}train_images.csv\".format(prefix_path))\n",
        "        df_test = pd.read_csv(\"{}test_images.csv\".format(prefix_path))\n",
        "    return df_train, df_test\n",
        "\n",
        "\n",
        "def get_df_train_valid(prefix_path=PREFIX_PROCESSED_DATA_PATH, df=None, split=True):\n",
        "    df_train = df.copy()\n",
        "    if split:\n",
        "        df_train, df_valid = train_test_split(df_train, test_size=0.10, stratify=df[\"label\"])\n",
        "        df_valid.to_csv(\"{}valid_images.csv\".format(prefix_path), index=False)\n",
        "    else:\n",
        "        df_valid = pd.read_csv(\"{}valid_images.csv\".format(prefix_path))\n",
        "\n",
        "    df_train = df_train.loc[~df_train[\"image_path\"].isin(df_valid[\"image_path\"])]\n",
        "    return df_train, df_valid\n",
        "\n",
        "\n",
        "def drop_valid_albumented_images_from_train_data(df_train_aux, df_valid):\n",
        "    df_valid_aux = df_train_aux.loc[\n",
        "        df_train_aux[\"image_path\"].isin(df_valid[\"image_path\"])\n",
        "    ]\n",
        "    df_train_aux = df_train_aux.loc[\n",
        "        ~df_train_aux[\"image_path\"].isin(df_valid[\"image_path\"])\n",
        "    ]\n",
        "\n",
        "    return df_train_aux, df_valid_aux\n",
        "\n",
        "\n",
        "def get_df_train_with_albumentations_and_noises(df_train):\n",
        "    main_columns = [\"image_path\", \"label\", \"label_name\"]\n",
        "    columns = main_columns + COLUMNS_PIXELS\n",
        "\n",
        "    df_train_1 = df_train.loc[df_train[\"label\"] == 1][columns].copy()\n",
        "    df_train_1[\"pre_process_type\"] = \"Original\"\n",
        "\n",
        "    df_train_0 = df_train.loc[df_train[\"label\"] == 0][columns].copy()\n",
        "    df_train_0[\"pre_process_type\"] = \"Original\"\n",
        "\n",
        "    df_albumentations = pd.read_csv(\n",
        "        \"{}train_images_albumentation.csv\".format(PREFIX_PROCESSED_DATA_PATH)\n",
        "    )\n",
        "    df_noises = pd.read_csv(\n",
        "        \"{}train_images_noise.csv\".format(PREFIX_PROCESSED_DATA_PATH)\n",
        "    )\n",
        "\n",
        "    df_train_aux = (\n",
        "        pd.concat(\n",
        "            [df_train_0, df_albumentations, df_noises, df_train_1], ignore_index=True\n",
        "        )\n",
        "        .sort_values(\n",
        "            [\"label\", \"image_path\", \"pre_process_type\"], ascending=[True, True, False]\n",
        "        )\n",
        "        .reset_index(drop=True)\n",
        "    )\n",
        "    return df_train_aux\n",
        "\n",
        "\n",
        "def get_processed_input_model(\n",
        "    df, img_height=IMG_HEIGHT, img_width=IMG_WIDTH, channels=CHANNEL\n",
        "):\n",
        "    X = df[COLUMNS_PIXELS]\n",
        "    y = df[\"label\"]\n",
        "\n",
        "    X_scaled = X / 255.0\n",
        "\n",
        "    X_scaled_cnn = (\n",
        "        X_scaled.to_numpy()\n",
        "        .reshape(X_scaled.shape[0], img_height, img_width, CHANNEL)\n",
        "        .copy()\n",
        "    )\n",
        "\n",
        "    return X, y, X_scaled, X_scaled_cnn\n",
        "\n",
        "\n",
        "def save_model(model, prefix_filename, model_type=\"sklearn\"):\n",
        "    if model_type == \"sklearn\":\n",
        "        joblib.dump(model, \"{}.sav\".format(prefix_filename))\n",
        "    elif model_type == \"tf\":\n",
        "        model.save(\"{}.h5\".format(prefix_filename))\n",
        "\n",
        "\n",
        "def load_model(prefix_filename, model_type=\"sklearn\"):\n",
        "    if model_type == \"sklearn\":\n",
        "        model = joblib.load(\"{}.sav\".format(prefix_filename))\n",
        "    elif model_type == \"tf\":\n",
        "        model = tf.keras.models.load_model(\"{}.h5\".format(prefix_filename))\n",
        "    return model\n",
        "\n",
        "\n",
        "def describe_results(y_true, y_pred, target_names=None, labels=None):\n",
        "    accuracy = accuracy_score(y_true, y_pred)\n",
        "    print(\"Accuracy: \", accuracy)\n",
        "\n",
        "    print(\n",
        "        classification_report(y_true, y_pred, target_names=target_names, labels=labels)\n",
        "    )"
      ],
      "metadata": {
        "cellView": "form",
        "id": "VrIsvqWmkNFg"
      },
      "execution_count": null,
      "outputs": []
    },
    {
      "cell_type": "code",
      "source": [
        "#@title visualize.py\n",
        "\n",
        "import matplotlib.pyplot as plt\n",
        "import plotly.graph_objects as go\n",
        "import seaborn as sns\n",
        "from plotly.subplots import make_subplots\n",
        "from sklearn.metrics import (PrecisionRecallDisplay, RocCurveDisplay,\n",
        "                             confusion_matrix)\n",
        "\n",
        "\n",
        "\n",
        "def plot_confusion_matrix(y_true, y_pred, prefix_filename, labels=None):\n",
        "    cm = confusion_matrix(y_true, y_pred)\n",
        "    # cm = multilabel_confusion_matrix(y_true, y_pred, labels=labels)\n",
        "    ax = plt.axes()\n",
        "\n",
        "    sns.heatmap(cm, annot=True, annot_kws={\"size\": 30}, fmt=\"d\", cmap=\"Blues\", ax=ax)\n",
        "    ax.set_title(\"Confusion Matrix\")\n",
        "    plt.show()\n",
        "    # plt.savefig('{}.png'.format(prefix_filename))\n",
        "\n",
        "def compare_evaluation_metrics(df, dataset=None, image_path=None):\n",
        "    df_0 = df.loc[df[\"label\"] == 0]\n",
        "    df_1 = df.loc[df[\"label\"] == 1]\n",
        "\n",
        "    total_models = len(df[\"model_name\"].unique())\n",
        "    fig = make_subplots(\n",
        "        rows=2, cols=2, subplot_titles=(\"Accuracy\", \"Precision\", \"Recall\", \"F1 Score\")\n",
        "    )\n",
        "    acc_colors = [\n",
        "        \"gray\",\n",
        "    ] * total_models\n",
        "    b_colors = [\n",
        "        \"blue\",\n",
        "    ] * total_models\n",
        "    r_colors = [\n",
        "        \"red\",\n",
        "    ] * total_models\n",
        "\n",
        "    fig.add_trace(\n",
        "        go.Bar(\n",
        "            x=df_0[\"model_name\"],\n",
        "            y=round(df_0[\"accuracy\"] * 100, 2),\n",
        "            text=round(df_0[\"accuracy\"] * 100, 2),\n",
        "            textposition=\"auto\",\n",
        "            marker_color=acc_colors,\n",
        "            showlegend=False,\n",
        "        ),\n",
        "        row=1,\n",
        "        col=1,\n",
        "    )\n",
        "\n",
        "    for metric, row, col in [(\"precision\", 1, 2), (\"recall\", 2, 1), (\"f1_score\", 2, 2)]:\n",
        "        showlegend = False if metric != \"precision\" else True\n",
        "        fig.add_trace(\n",
        "            go.Bar(\n",
        "                x=df_0[\"model_name\"],\n",
        "                y=round(df_0[metric] * 100, 2),\n",
        "                text=round(df_0[metric] * 100, 2),\n",
        "                textposition=\"auto\",\n",
        "                marker_color=b_colors,\n",
        "                name=\"Sem fogo\",\n",
        "                showlegend=showlegend,\n",
        "            ),\n",
        "            row=row,\n",
        "            col=col,\n",
        "        )\n",
        "        fig.add_trace(\n",
        "            go.Bar(\n",
        "                x=df_1[\"model_name\"],\n",
        "                y=round(df_1[metric] * 100, 2),\n",
        "                text=round(df_1[metric] * 100, 2),\n",
        "                textposition=\"auto\",\n",
        "                marker_color=r_colors,\n",
        "                name=\"Com fogo\",\n",
        "                showlegend=showlegend,\n",
        "            ),\n",
        "            row=row,\n",
        "            col=col,\n",
        "        )\n",
        "\n",
        "    fig.update_layout(title_text=\"[{}] - Métricas de avaliação dos modelos\".format(dataset))\n",
        "    fig.show()\n",
        "    # fig.write_image(\"{}.png\".format(image_path))\n",
        "    # fig.write_html(\"{}.html\".format(image_path))\n",
        "\n",
        "\n",
        "\n",
        "def plot_train_history(df_history, image_path):\n",
        "    fig = make_subplots(rows=1, cols=2, subplot_titles=(\"Loss\", \"F1 Score\"))\n",
        "\n",
        "    fig.add_trace(\n",
        "        go.Scatter(\n",
        "            x=df_history.index,\n",
        "            y=df_history[\"loss\"],\n",
        "            mode=\"lines\",\n",
        "            name=\"Loss\",\n",
        "            marker_color=\"gray\",\n",
        "        ),\n",
        "        row=1,\n",
        "        col=1,\n",
        "    )\n",
        "    fig.add_trace(\n",
        "        go.Scatter(\n",
        "            x=df_history.index,\n",
        "            y=df_history[\"val_loss\"],\n",
        "            mode=\"lines\",\n",
        "            name=\"Val loss\",\n",
        "            marker_color=\"blue\",\n",
        "        ),\n",
        "        row=1,\n",
        "        col=1,\n",
        "    )\n",
        "    fig.add_trace(\n",
        "        go.Scatter(\n",
        "            x=df_history.index,\n",
        "            y=df_history[\"f1_score\"],\n",
        "            mode=\"lines\",\n",
        "            name=\"F1 score\",\n",
        "            marker_color=\"gray\",\n",
        "        ),\n",
        "        row=1,\n",
        "        col=2,\n",
        "    )\n",
        "    fig.add_trace(\n",
        "        go.Scatter(\n",
        "            x=df_history.index,\n",
        "            y=df_history[\"val_f1_score\"],\n",
        "            mode=\"lines\",\n",
        "            name=\"Val F1 score\",\n",
        "            marker_color=\"blue\",\n",
        "        ),\n",
        "        row=1,\n",
        "        col=2,\n",
        "    )\n",
        "    fig.show()\n",
        "    # fig.write_image(\"{}.png\".format(image_path))\n",
        "    # fig.write_html(\"{}.html\".format(image_path))\n"
      ],
      "metadata": {
        "id": "N6hMQ2NMlaSo",
        "cellView": "form"
      },
      "execution_count": null,
      "outputs": []
    },
    {
      "cell_type": "markdown",
      "source": [
        "# Logistic Regression"
      ],
      "metadata": {
        "id": "9MCJ0MB4NWgO"
      }
    },
    {
      "cell_type": "code",
      "source": [
        "#@title Logistic Regression com albumentation\n",
        "\n",
        "import logging\n",
        "import os\n",
        "import shutil\n",
        "\n",
        "import joblib\n",
        "import mlflow\n",
        "import pandas as pd\n",
        "from sklearn.linear_model import LogisticRegression\n",
        "from sklearn.metrics import accuracy_score, precision_recall_fscore_support\n",
        "\n",
        "# from src.constants import PREFIX_PROCESSED_DATA_PATH, TMP_DIR_PATH\n",
        "# from src.input_output_processing import (\n",
        "#     describe_results, drop_valid_albumented_images_from_train_data,\n",
        "#     get_df_train_test, get_df_train_valid,\n",
        "#     get_df_train_with_albumentations_and_noises, get_processed_input_model)\n",
        "# from src.visualization.visualize import plot_confusion_matrix\n",
        "\n",
        "TAG = \"LR\"\n",
        "\n",
        "\n",
        "def train(\n",
        "    X_train_scaled,\n",
        "    y_train,\n",
        "    run_id,\n",
        "):\n",
        "    model = LogisticRegression()\n",
        "    model.fit(X_train_scaled, y_train)\n",
        "\n",
        "    print(\"Classes:\", model.classes_[::])\n",
        "    print(\"Coef shape:\", model.coef_.shape)\n",
        "    print(\"Coef: \", model.coef_)\n",
        "\n",
        "    if os.path.exists(TMP_DIR_PATH):\n",
        "        shutil.rmtree(TMP_DIR_PATH)\n",
        "    os.makedirs(TMP_DIR_PATH)\n",
        "\n",
        "    prefix_filename = \"{dir_path}/{tag}_{run_id}.sav\".format(\n",
        "        dir_path=TMP_DIR_PATH, tag=TAG, run_id=run_id\n",
        "    )\n",
        "    joblib.dump(model, prefix_filename)\n",
        "    return model\n",
        "\n",
        "\n",
        "def predict(model, type_data, X_test_scaled, y_test, run_id):\n",
        "    # Predicting the Test set results\n",
        "    y_pred = model.predict(X_test_scaled)\n",
        "\n",
        "    # Predict probabilities\n",
        "    probs_y = model.predict_proba(X_test_scaled)\n",
        "\n",
        "    y_score = model.decision_function(X_test_scaled)\n",
        "\n",
        "    y_true = y_test\n",
        "    df_y_true_pred = pd.DataFrame(\n",
        "        {\n",
        "            \"y_true\": y_true,\n",
        "            \"y_pred\": y_pred,\n",
        "            \"non_prob\": probs_y[:, 0],\n",
        "            \"fire_prob\": probs_y[:, 1],\n",
        "            \"y_score\": y_score,\n",
        "        }\n",
        "    )\n",
        "\n",
        "    y_true = df_y_true_pred[\"y_true\"]\n",
        "    y_pred = df_y_true_pred[\"y_pred\"]\n",
        "\n",
        "    accuracy = accuracy_score(y_true, y_pred)\n",
        "    precision_recall_fscore_support_metrics = precision_recall_fscore_support(\n",
        "        y_true, y_pred, average=None, labels=[0, 1]\n",
        "    )\n",
        "    df_precision_recall_fscore_support = pd.DataFrame(\n",
        "        precision_recall_fscore_support_metrics,\n",
        "        columns=[0, 1],\n",
        "        index=[\"precision\", \"recall\", \"f1_score\", \"support\"],\n",
        "    ).T\n",
        "    df_precision_recall_fscore_support[\"accuracy\"] = accuracy\n",
        "    df_precision_recall_fscore_support[\"model_name\"] = \"{}_{}\".format(TAG, run_id)\n",
        "    df_precision_recall_fscore_support = (\n",
        "        df_precision_recall_fscore_support.reset_index().rename(\n",
        "            columns={\"index\": \"label\"}\n",
        "        )\n",
        "    )\n",
        "\n",
        "    prefix_filename = \"{dir_path}/{tag}_{run_id}_{type_data}\".format(\n",
        "        dir_path=TMP_DIR_PATH, tag=TAG, run_id=run_id, type_data=type_data\n",
        "    )\n",
        "    df_precision_recall_fscore_support.to_csv(\n",
        "        \"{}_metrics.csv\".format(prefix_filename), index=False\n",
        "    )\n",
        "\n",
        "    describe_results(y_true=y_true, y_pred=y_pred, labels=[0, 1])\n",
        "    plot_confusion_matrix(y_true=y_true, y_pred=y_pred, prefix_filename=prefix_filename)\n",
        "\n",
        "\n",
        "def main():\n",
        "    logging.info(\"Starting run {}\".format(TAG))\n",
        "\n",
        "    df_train, df_test = get_df_train_test(\n",
        "        prefix_path=PREFIX_PROCESSED_DATA_PATH, split=False\n",
        "    )\n",
        "    df_train, df_valid = get_df_train_valid(\n",
        "        prefix_path=PREFIX_PROCESSED_DATA_PATH, df=df_train, split=False\n",
        "    )\n",
        "\n",
        "    df_train_aux = get_df_train_with_albumentations_and_noises(df_train)\n",
        "    df_train_aux, _ = drop_valid_albumented_images_from_train_data(\n",
        "        df_train_aux, df_valid\n",
        "    )\n",
        "\n",
        "    (\n",
        "        X_train_aux,\n",
        "        y_train_aux,\n",
        "        X_train_scaled_aux,\n",
        "        X_train_scaled_cnn_aux,\n",
        "    ) = get_processed_input_model(df_train_aux)\n",
        "    X_valid, y_valid, X_valid_scaled, X_valid_scaled_cnn = get_processed_input_model(\n",
        "        df_valid\n",
        "    )\n",
        "    X_test, y_test, X_test_scaled, X_test_scaled_cnn = get_processed_input_model(\n",
        "        df_train_aux\n",
        "    )\n",
        "\n",
        "    with mlflow.start_run() as run:\n",
        "        mlflow.set_tag(\"model.version\", TAG)\n",
        "        run = mlflow.active_run()\n",
        "        run_id = run.info.run_id\n",
        "\n",
        "        logging.info(\"Active run_id: {}\".format(run_id))\n",
        "        print(\"Active run_id: {}\".format(run_id))\n",
        "\n",
        "        mlflow.sklearn.autolog()\n",
        "\n",
        "        model = train(\n",
        "            X_train_scaled_aux,\n",
        "            y_train_aux,\n",
        "            run_id,\n",
        "        )\n",
        "        predict(model, \"valid\", X_valid_scaled, y_valid, run_id)\n",
        "        predict(model, \"test\", X_test_scaled, y_test, run_id)\n",
        "\n",
        "        mlflow.log_artifacts(TMP_DIR_PATH)\n",
        "    mlflow.end_run()\n",
        "\n",
        "    logging.info(\"Ending run {}\".format(TAG))\n",
        "\n",
        "\n",
        "# if __name__ == \"__main__\":\n",
        "main()"
      ],
      "metadata": {
        "colab": {
          "base_uri": "https://localhost:8080/",
          "height": 1000
        },
        "cellView": "form",
        "id": "MUM5HkAvIF1L",
        "outputId": "37c4d103-df1f-4d35-c0f4-f1228cb8f6d7"
      },
      "execution_count": null,
      "outputs": [
        {
          "output_type": "stream",
          "name": "stdout",
          "text": [
            "Active run_id: 4e68bf17be194f6c97c602418326cba4\n"
          ]
        },
        {
          "output_type": "stream",
          "name": "stderr",
          "text": [
            "/usr/local/lib/python3.7/dist-packages/sklearn/linear_model/_logistic.py:818: ConvergenceWarning: lbfgs failed to converge (status=1):\n",
            "STOP: TOTAL NO. of ITERATIONS REACHED LIMIT.\n",
            "\n",
            "Increase the number of iterations (max_iter) or scale the data as shown in:\n",
            "    https://scikit-learn.org/stable/modules/preprocessing.html\n",
            "Please also refer to the documentation for alternative solver options:\n",
            "    https://scikit-learn.org/stable/modules/linear_model.html#logistic-regression\n",
            "  extra_warning_msg=_LOGISTIC_SOLVER_CONVERGENCE_MSG,\n"
          ]
        },
        {
          "output_type": "stream",
          "name": "stdout",
          "text": [
            "Classes: [0 1]\n",
            "Coef shape: (1, 30000)\n",
            "Coef:  [[ 0.01519728 -0.00080411 -0.024375   ... -0.01994567 -0.01656602\n",
            "  -0.01882608]]\n",
            "Accuracy:  0.925\n",
            "              precision    recall  f1-score   support\n",
            "\n",
            "           0       0.78      0.95      0.86        19\n",
            "           1       0.98      0.92      0.95        61\n",
            "\n",
            "    accuracy                           0.93        80\n",
            "   macro avg       0.88      0.93      0.90        80\n",
            "weighted avg       0.93      0.93      0.93        80\n",
            "\n"
          ]
        },
        {
          "output_type": "display_data",
          "data": {
            "text/plain": [
              "<Figure size 432x288 with 2 Axes>"
            ],
            "image/png": "[encoded data removed]"
          },
          "metadata": {
            "needs_background": "light"
          }
        },
        {
          "output_type": "stream",
          "name": "stdout",
          "text": [
            "Accuracy:  1.0\n",
            "              precision    recall  f1-score   support\n",
            "\n",
            "           0       1.00      1.00      1.00       519\n",
            "           1       1.00      1.00      1.00       540\n",
            "\n",
            "    accuracy                           1.00      1059\n",
            "   macro avg       1.00      1.00      1.00      1059\n",
            "weighted avg       1.00      1.00      1.00      1059\n",
            "\n"
          ]
        },
        {
          "output_type": "display_data",
          "data": {
            "text/plain": [
              "<Figure size 432x288 with 2 Axes>"
            ],
            "image/png": "[encoded data removed]"
          },
          "metadata": {
            "needs_background": "light"
          }
        }
      ]
    },
    {
      "cell_type": "markdown",
      "source": [
        "# SVM"
      ],
      "metadata": {
        "id": "sXTnVM4cNb4G"
      }
    },
    {
      "cell_type": "code",
      "source": [
        "#@title SVM com albumentation\n",
        "\n",
        "import logging\n",
        "import os\n",
        "import shutil\n",
        "\n",
        "import joblib\n",
        "import mlflow\n",
        "import pandas as pd\n",
        "from sklearn.svm import SVC\n",
        "from sklearn.metrics import accuracy_score, precision_recall_fscore_support\n",
        "\n",
        "# from src.constants import PREFIX_PROCESSED_DATA_PATH, TMP_DIR_PATH\n",
        "# from src.input_output_processing import (\n",
        "#     describe_results, drop_valid_albumented_images_from_train_data,\n",
        "#     get_df_train_test, get_df_train_valid,\n",
        "#     get_df_train_with_albumentations_and_noises, get_processed_input_model)\n",
        "# from src.visualization.visualize import plot_confusion_matrix\n",
        "\n",
        "TAG = \"SVM\"\n",
        "\n",
        "\n",
        "def train(\n",
        "    X_train_scaled,\n",
        "    y_train,\n",
        "    run_id,\n",
        "):\n",
        "    model = SVC(kernel='poly', probability=True)\n",
        "    model.fit(X_train_scaled, y_train)\n",
        "\n",
        "    print(\"Classes:\", model.classes_[::])\n",
        "    # print(\"Coef shape:\", model.coef_.shape)\n",
        "    # print(\"Coef: \", model.coef_)\n",
        "\n",
        "    if os.path.exists(TMP_DIR_PATH):\n",
        "        shutil.rmtree(TMP_DIR_PATH)\n",
        "    os.makedirs(TMP_DIR_PATH)\n",
        "\n",
        "    prefix_filename = \"{dir_path}/{tag}_{run_id}.sav\".format(\n",
        "        dir_path=TMP_DIR_PATH, tag=TAG, run_id=run_id\n",
        "    )\n",
        "    joblib.dump(model, prefix_filename)\n",
        "    return model\n",
        "\n",
        "\n",
        "def predict(model, type_data, X_test_scaled, y_test, run_id):\n",
        "    # Predicting the Test set results\n",
        "    y_pred = model.predict(X_test_scaled)\n",
        "\n",
        "    # Predict probabilities\n",
        "    probs_y = model.predict_proba(X_test_scaled)\n",
        "\n",
        "    y_score = model.decision_function(X_test_scaled)\n",
        "\n",
        "    y_true = y_test\n",
        "    df_y_true_pred = pd.DataFrame(\n",
        "        {\n",
        "            \"y_true\": y_true,\n",
        "            \"y_pred\": y_pred,\n",
        "            \"non_prob\": probs_y[:, 0],\n",
        "            \"fire_prob\": probs_y[:, 1],\n",
        "            \"y_score\": y_score,\n",
        "        }\n",
        "    )\n",
        "\n",
        "    y_true = df_y_true_pred[\"y_true\"]\n",
        "    y_pred = df_y_true_pred[\"y_pred\"]\n",
        "\n",
        "    accuracy = accuracy_score(y_true, y_pred)\n",
        "    precision_recall_fscore_support_metrics = precision_recall_fscore_support(\n",
        "        y_true, y_pred, average=None, labels=[0, 1]\n",
        "    )\n",
        "    df_precision_recall_fscore_support = pd.DataFrame(\n",
        "        precision_recall_fscore_support_metrics,\n",
        "        columns=[0, 1],\n",
        "        index=[\"precision\", \"recall\", \"f1_score\", \"support\"],\n",
        "    ).T\n",
        "    df_precision_recall_fscore_support[\"accuracy\"] = accuracy\n",
        "    df_precision_recall_fscore_support[\"model_name\"] = \"{}_{}\".format(TAG, run_id)\n",
        "    df_precision_recall_fscore_support = (\n",
        "        df_precision_recall_fscore_support.reset_index().rename(\n",
        "            columns={\"index\": \"label\"}\n",
        "        )\n",
        "    )\n",
        "\n",
        "    prefix_filename = \"{dir_path}/{tag}_{run_id}_{type_data}\".format(\n",
        "        dir_path=TMP_DIR_PATH, tag=TAG, run_id=run_id, type_data=type_data\n",
        "    )\n",
        "    df_precision_recall_fscore_support.to_csv(\n",
        "        \"{}_metrics.csv\".format(prefix_filename), index=False\n",
        "    )\n",
        "\n",
        "    describe_results(y_true=y_true, y_pred=y_pred, labels=[0, 1])\n",
        "    plot_confusion_matrix(y_true=y_true, y_pred=y_pred, prefix_filename=prefix_filename)\n",
        "\n",
        "\n",
        "def main():\n",
        "    logging.info(\"Starting run {}\".format(TAG))\n",
        "\n",
        "    df_train, df_test = get_df_train_test(\n",
        "        prefix_path=PREFIX_PROCESSED_DATA_PATH, split=False\n",
        "    )\n",
        "    df_train, df_valid = get_df_train_valid(\n",
        "        prefix_path=PREFIX_PROCESSED_DATA_PATH, df=df_train, split=False\n",
        "    )\n",
        "\n",
        "    df_train_aux = get_df_train_with_albumentations_and_noises(df_train)\n",
        "    df_train_aux, _ = drop_valid_albumented_images_from_train_data(\n",
        "        df_train_aux, df_valid\n",
        "    )\n",
        "\n",
        "    (\n",
        "        X_train_aux,\n",
        "        y_train_aux,\n",
        "        X_train_scaled_aux,\n",
        "        X_train_scaled_cnn_aux,\n",
        "    ) = get_processed_input_model(df_train_aux)\n",
        "    X_valid, y_valid, X_valid_scaled, X_valid_scaled_cnn = get_processed_input_model(\n",
        "        df_valid\n",
        "    )\n",
        "    X_test, y_test, X_test_scaled, X_test_scaled_cnn = get_processed_input_model(\n",
        "        df_train_aux\n",
        "    )\n",
        "\n",
        "    with mlflow.start_run() as run:\n",
        "        mlflow.set_tag(\"model.version\", TAG)\n",
        "        run = mlflow.active_run()\n",
        "        run_id = run.info.run_id\n",
        "\n",
        "        logging.info(\"Active run_id: {}\".format(run_id))\n",
        "        print(\"Active run_id: {}\".format(run_id))\n",
        "\n",
        "        mlflow.sklearn.autolog()\n",
        "\n",
        "        model = train(\n",
        "            X_train_scaled_aux,\n",
        "            y_train_aux,\n",
        "            run_id,\n",
        "        )\n",
        "        predict(model, \"valid\", X_valid_scaled, y_valid, run_id)\n",
        "        predict(model, \"test\", X_test_scaled, y_test, run_id)\n",
        "\n",
        "        mlflow.log_artifacts(TMP_DIR_PATH)\n",
        "    mlflow.end_run()\n",
        "\n",
        "    logging.info(\"Ending run {}\".format(TAG))\n",
        "\n",
        "\n",
        "# if __name__ == \"__main__\":\n",
        "main()"
      ],
      "metadata": {
        "colab": {
          "base_uri": "https://localhost:8080/",
          "height": 951
        },
        "cellView": "form",
        "id": "Wh1w2EWpIRdK",
        "outputId": "89984431-39d2-4159-b507-a2db50b41801"
      },
      "execution_count": null,
      "outputs": [
        {
          "output_type": "stream",
          "name": "stdout",
          "text": [
            "Active run_id: 2b8e7ef28381438d84df5226f588d763\n",
            "Classes: [0 1]\n",
            "Accuracy:  0.8125\n",
            "              precision    recall  f1-score   support\n",
            "\n",
            "           0       0.58      0.74      0.65        19\n",
            "           1       0.91      0.84      0.87        61\n",
            "\n",
            "    accuracy                           0.81        80\n",
            "   macro avg       0.75      0.79      0.76        80\n",
            "weighted avg       0.83      0.81      0.82        80\n",
            "\n"
          ]
        },
        {
          "output_type": "display_data",
          "data": {
            "text/plain": [
              "<Figure size 432x288 with 2 Axes>"
            ],
            "image/png": "[encoded data removed]"
          },
          "metadata": {
            "needs_background": "light"
          }
        },
        {
          "output_type": "stream",
          "name": "stdout",
          "text": [
            "Accuracy:  0.9782813975448537\n",
            "              precision    recall  f1-score   support\n",
            "\n",
            "           0       0.96      1.00      0.98       519\n",
            "           1       1.00      0.96      0.98       540\n",
            "\n",
            "    accuracy                           0.98      1059\n",
            "   macro avg       0.98      0.98      0.98      1059\n",
            "weighted avg       0.98      0.98      0.98      1059\n",
            "\n"
          ]
        },
        {
          "output_type": "display_data",
          "data": {
            "text/plain": [
              "<Figure size 432x288 with 2 Axes>"
            ],
            "image/png": "[encoded data removed]"
          },
          "metadata": {
            "needs_background": "light"
          }
        }
      ]
    },
    {
      "cell_type": "markdown",
      "source": [
        "# CNN"
      ],
      "metadata": {
        "id": "k-EuL0XOH1-C"
      }
    },
    {
      "cell_type": "code",
      "source": [
        "#@title CNN com albumentation\n",
        "#@markdown bc40fc1ae5c545cc982a2930b8b6c57c\n",
        "\n",
        "import logging\n",
        "import os\n",
        "import shutil\n",
        "\n",
        "import mlflow\n",
        "import pandas as pd\n",
        "import tensorflow as tf\n",
        "import tensorflow_addons as tfa\n",
        "from sklearn.metrics import accuracy_score, precision_recall_fscore_support\n",
        "from tensorflow.keras import layers, models\n",
        "\n",
        "# from src.constants import (CHANNEL, IMG_HEIGHT, IMG_WIDTH,\n",
        "#                            PREFIX_PROCESSED_DATA_PATH, TMP_DIR_PATH)\n",
        "# from src.input_output_processing import (\n",
        "#     describe_results, drop_valid_albumented_images_from_train_data,\n",
        "#     get_df_train_test, get_df_train_valid,\n",
        "#     get_df_train_with_albumentations_and_noises, get_processed_input_model)\n",
        "# from src.visualization.visualize import (plot_confusion_matrix,\n",
        "#                                          plot_train_history)\n",
        "\n",
        "TAG = \"CNN_2.0\"\n",
        "\n",
        "\n",
        "def train(\n",
        "    input_shape,\n",
        "    X_train_scaled_cnn,\n",
        "    y_train,\n",
        "    X_valid_scaled_cnn,\n",
        "    y_valid,\n",
        "    run_id,\n",
        "    epochs=20,\n",
        "):\n",
        "    # model = models.Sequential()\n",
        "    # model.add(layers.Conv2D(512, (3, 3), activation='relu', input_shape=input_shape))\n",
        "    # model.add(layers.MaxPooling2D((2, 2)))\n",
        "    # model.add(layers.Conv2D(256, (3, 3), activation='relu'))\n",
        "    # model.add(layers.MaxPooling2D((2, 2)))\n",
        "    # model.add(layers.Conv2D(128, (3, 3), activation='relu'))\n",
        "    # model.add(layers.MaxPooling2D((2, 2)))\n",
        "    # model.add(layers.Flatten())\n",
        "    # model.add(layers.Dense(64, activation='relu'))\n",
        "    # model.add(layers.Dense(1, activation='sigmoid'))\n",
        "\n",
        "    model = models.Sequential()\n",
        "    model.add(layers.Conv2D(512, (5, 5), activation='relu', input_shape=input_shape))\n",
        "    model.add(layers.MaxPooling2D((2, 2)))\n",
        "    model.add(layers.Dropout(0.25))\n",
        "    model.add(layers.Conv2D(256, (5, 5), activation='relu'))\n",
        "    model.add(layers.MaxPooling2D((2, 2)))\n",
        "    model.add(layers.Dropout(0.25))\n",
        "    model.add(layers.Conv2D(128, (5, 5), activation='relu'))\n",
        "    model.add(layers.MaxPooling2D((2, 2)))\n",
        "    model.add(layers.Dropout(0.25))\n",
        "    model.add(layers.Flatten())\n",
        "    model.add(layers.Dense(64, activation='relu'))\n",
        "    model.add(layers.Dense(1, activation='sigmoid'))\n",
        "\n",
        "    model.summary()\n",
        "\n",
        "    model.compile(\n",
        "        loss=\"binary_crossentropy\",\n",
        "        optimizer=tf.keras.optimizers.Adam(learning_rate=0.001),\n",
        "        metrics=[\n",
        "            tf.keras.metrics.BinaryCrossentropy(),\n",
        "            tf.keras.metrics.Accuracy(),\n",
        "            tf.keras.metrics.Precision(),\n",
        "            tf.keras.metrics.Recall(),\n",
        "            tfa.metrics.F1Score(num_classes=1, threshold=0.5),\n",
        "        ],\n",
        "    )\n",
        "\n",
        "    if os.path.exists(TMP_DIR_PATH):\n",
        "        shutil.rmtree(TMP_DIR_PATH)\n",
        "    os.makedirs(TMP_DIR_PATH)\n",
        "\n",
        "    prefix_filename = \"{dir_path}/{tag}_{run_id}\".format(\n",
        "        dir_path=TMP_DIR_PATH, tag=TAG, run_id=run_id\n",
        "    )\n",
        "    checkpoint_filepath = (\n",
        "        prefix_filename + \"_weights_{epoch:02d}_{val_loss}_{val_f1_score}.h5\"\n",
        "    )\n",
        "    model_checkpoint_callback = tf.keras.callbacks.ModelCheckpoint(\n",
        "        filepath=checkpoint_filepath,\n",
        "        monitor=\"val_f1_score\",\n",
        "        mode=\"max\",\n",
        "        save_best_only=True,\n",
        "    )\n",
        "    history = model.fit(\n",
        "        X_train_scaled_cnn,\n",
        "        y_train,\n",
        "        steps_per_epoch=8,\n",
        "        epochs=epochs,\n",
        "        verbose=1,\n",
        "        validation_data=(X_valid_scaled_cnn, y_valid),\n",
        "        callbacks=[model_checkpoint_callback],\n",
        "    )\n",
        "\n",
        "    df_history = pd.DataFrame(history.history)\n",
        "    df_history[\"f1_score\"] = df_history[\"f1_score\"].str[0].map(float)\n",
        "    df_history[\"val_f1_score\"] = df_history[\"val_f1_score\"].str[0].map(float)\n",
        "    df_history.to_csv(\"{}_history.csv\".format(prefix_filename), index=False)\n",
        "\n",
        "    plot_train_history(df_history, \"{}_train\".format(prefix_filename))\n",
        "    return model\n",
        "\n",
        "\n",
        "def predict(model, type_data, X_test_scaled_cnn, y_test, run_id):\n",
        "    y_score = model.predict(X_test_scaled_cnn, verbose=1)\n",
        "    df_y_true_pred_cnn = pd.DataFrame(\n",
        "        {\n",
        "            \"y_true\": y_test.to_numpy().flatten().tolist(),\n",
        "            \"y_pred\": (pd.Series(y_score.flatten().tolist()) >= 0.5).astype(\"int64\"),\n",
        "            \"y_score\": y_score.flatten().tolist(),\n",
        "        }\n",
        "    )\n",
        "\n",
        "    y_true = df_y_true_pred_cnn[\"y_true\"]\n",
        "    y_pred = df_y_true_pred_cnn[\"y_pred\"]\n",
        "\n",
        "    accuracy = accuracy_score(y_true, y_pred)\n",
        "    precision_recall_fscore_support_metrics = precision_recall_fscore_support(\n",
        "        y_true, y_pred, average=None, labels=[0, 1]\n",
        "    )\n",
        "    df_precision_recall_fscore_support_cnn = pd.DataFrame(\n",
        "        precision_recall_fscore_support_metrics,\n",
        "        columns=[0, 1],\n",
        "        index=[\"precision\", \"recall\", \"f1_score\", \"support\"],\n",
        "    ).T\n",
        "    df_precision_recall_fscore_support_cnn[\"accuracy\"] = accuracy\n",
        "    df_precision_recall_fscore_support_cnn[\"model_name\"] = \"{}_{}\".format(TAG, run_id)\n",
        "    df_precision_recall_fscore_support_cnn = (\n",
        "        df_precision_recall_fscore_support_cnn.reset_index().rename(\n",
        "            columns={\"index\": \"label\"}\n",
        "        )\n",
        "    )\n",
        "\n",
        "    prefix_filename = \"{dir_path}/{tag}_{run_id}_{type_data}\".format(\n",
        "        dir_path=TMP_DIR_PATH, tag=TAG, run_id=run_id, type_data=type_data\n",
        "    )\n",
        "    df_precision_recall_fscore_support_cnn.to_csv(\n",
        "        \"{}_metrics.csv\".format(prefix_filename), index=False\n",
        "    )\n",
        "\n",
        "    describe_results(y_true=y_true, y_pred=y_pred, labels=[0, 1])\n",
        "    plot_confusion_matrix(y_true=y_true, y_pred=y_pred, prefix_filename=prefix_filename)\n",
        "\n",
        "\n",
        "def main():\n",
        "    logging.info(\"Starting run {}\".format(TAG))\n",
        "\n",
        "    df_train, df_test = get_df_train_test(\n",
        "        prefix_path=PREFIX_PROCESSED_DATA_PATH, split=False\n",
        "    )\n",
        "    df_train, df_valid = get_df_train_valid(\n",
        "        prefix_path=PREFIX_PROCESSED_DATA_PATH, df=df_train, split=False\n",
        "    )\n",
        "\n",
        "    df_train_aux = get_df_train_with_albumentations_and_noises(df_train)\n",
        "    df_train_aux, _ = drop_valid_albumented_images_from_train_data(\n",
        "        df_train_aux, df_valid\n",
        "    )\n",
        "\n",
        "    (\n",
        "        X_train_aux,\n",
        "        y_train_aux,\n",
        "        X_train_scaled_aux,\n",
        "        X_train_scaled_cnn_aux,\n",
        "    ) = get_processed_input_model(df_train_aux)\n",
        "    X_valid, y_valid, X_valid_scaled, X_valid_scaled_cnn = get_processed_input_model(\n",
        "        df_valid\n",
        "    )\n",
        "    X_test, y_test, X_test_scaled, X_test_scaled_cnn = get_processed_input_model(\n",
        "        df_train_aux\n",
        "    )\n",
        "\n",
        "    input_shape = (IMG_HEIGHT, IMG_WIDTH, CHANNEL)\n",
        "\n",
        "    with mlflow.start_run() as run:\n",
        "        mlflow.set_tag(\"model.version\", TAG)\n",
        "        run = mlflow.active_run()\n",
        "        run_id = run.info.run_id\n",
        "        logging.info(\"Active run_id: {}\".format(run_id))\n",
        "        print(\"Active run_id: {}\".format(run_id))\n",
        "        mlflow.keras.autolog()\n",
        "\n",
        "        model = train(\n",
        "            input_shape,\n",
        "            X_train_scaled_cnn_aux,\n",
        "            y_train_aux,\n",
        "            X_valid_scaled_cnn,\n",
        "            y_valid,\n",
        "            run_id,\n",
        "            epochs=20,\n",
        "        )\n",
        "        predict(model, \"valid\", X_valid_scaled_cnn, y_valid, run_id)\n",
        "        predict(model, \"test\", X_test_scaled_cnn, y_test, run_id)\n",
        "\n",
        "        mlflow.log_artifacts(TMP_DIR_PATH)\n",
        "    mlflow.end_run()\n",
        "\n",
        "    logging.info(\"Ending run {}\".format(TAG))\n",
        "\n",
        "\n",
        "# if __name__ == \"__main__\":\n",
        "main()\n"
      ],
      "metadata": {
        "id": "_taYQFO-kqdP",
        "colab": {
          "base_uri": "https://localhost:8080/",
          "height": 1000
        },
        "cellView": "form",
        "outputId": "eab92354-f46a-4564-b6c7-6a8f6330fe27"
      },
      "execution_count": null,
      "outputs": [
        {
          "output_type": "stream",
          "name": "stdout",
          "text": [
            "Model: \"sequential_1\"\n",
            "_________________________________________________________________\n",
            " Layer (type)                Output Shape              Param #   \n",
            "=================================================================\n",
            " conv2d_1 (Conv2D)           (None, 96, 96, 512)       38912     \n",
            "                                                                 \n",
            " max_pooling2d_1 (MaxPooling  (None, 48, 48, 512)      0         \n",
            " 2D)                                                             \n",
            "                                                                 \n",
            " dropout_1 (Dropout)         (None, 48, 48, 512)       0         \n",
            "                                                                 \n",
            " conv2d_2 (Conv2D)           (None, 44, 44, 256)       3277056   \n",
            "                                                                 \n",
            " max_pooling2d_2 (MaxPooling  (None, 22, 22, 256)      0         \n",
            " 2D)                                                             \n",
            "                                                                 \n",
            " dropout_2 (Dropout)         (None, 22, 22, 256)       0         \n",
            "                                                                 \n",
            " conv2d_3 (Conv2D)           (None, 18, 18, 128)       819328    \n",
            "                                                                 \n",
            " max_pooling2d_3 (MaxPooling  (None, 9, 9, 128)        0         \n",
            " 2D)                                                             \n",
            "                                                                 \n",
            " dropout_3 (Dropout)         (None, 9, 9, 128)         0         \n",
            "                                                                 \n",
            " flatten_1 (Flatten)         (None, 10368)             0         \n",
            "                                                                 \n",
            " dense_1 (Dense)             (None, 64)                663616    \n",
            "                                                                 \n",
            " dense_2 (Dense)             (None, 1)                 65        \n",
            "                                                                 \n",
            "=================================================================\n",
            "Total params: 4,798,977\n",
            "Trainable params: 4,798,977\n",
            "Non-trainable params: 0\n",
            "_________________________________________________________________\n"
          ]
        },
        {
          "output_type": "stream",
          "name": "stderr",
          "text": [
            "/usr/local/lib/python3.7/dist-packages/mlflow/utils/autologging_utils/__init__.py:416: FutureWarning:\n",
            "\n",
            "Autologging support for keras >= 2.6.0 has been deprecated and will be removed in a future MLflow release. Use `mlflow.tensorflow.autolog()` instead.\n",
            "\n"
          ]
        },
        {
          "output_type": "stream",
          "name": "stdout",
          "text": [
            "Epoch 1/20\n",
            "8/8 [==============================] - ETA: 0s - loss: 1.3000 - binary_crossentropy: 1.3000 - accuracy: 0.0113 - precision_1: 0.5764 - recall_1: 0.6704 - f1_score: 0.6199"
          ]
        },
        {
          "output_type": "stream",
          "name": "stderr",
          "text": [
            "2022/09/01 10:45:48 WARNING mlflow.utils.autologging_utils: Encountered unexpected error during autologging: Got invalid value [0.61986303] for metric 'f1_score' (timestamp=1662029148632). Please specify value as a valid double (64-bit floating point)\n"
          ]
        },
        {
          "output_type": "stream",
          "name": "stdout",
          "text": [
            "\b\b\b\b\b\b\b\b\b\b\b\b\b\b\b\b\b\b\b\b\b\b\b\b\b\b\b\b\b\b\b\b\b\b\b\b\b\b\b\b\b\b\b\b\b\b\b\b\b\b\b\b\b\b\b\b\b\b\b\b\b\b\b\b\b\b\b\b\b\b\b\b\b\b\b\b\b\b\b\b\b\b\b\b\b\b\b\b\b\b\b\b\b\b\b\b\b\b\b\b\b\b\b\b\b\b\b\b\b\b\b\b\b\b\b\b\b\b\b\b\b\b\b\b\b\b\b\b\b\b\b\b\b\b\b\b\b\b\b\b\b\b\b\b\b\b\b\b\b\b\b\b\b\b\b\b\b\b\b\b\b\b\b\b\b\b\b\b\b\b\r8/8 [==============================] - 24s 2s/step - loss: 1.3000 - binary_crossentropy: 1.3000 - accuracy: 0.0113 - precision_1: 0.5764 - recall_1: 0.6704 - f1_score: 0.6199 - val_loss: 0.9047 - val_binary_crossentropy: 0.9047 - val_accuracy: 0.0000e+00 - val_precision_1: 0.0000e+00 - val_recall_1: 0.0000e+00 - val_f1_score: 0.0000e+00\n",
            "Epoch 2/20\n",
            "8/8 [==============================] - ETA: 0s - loss: 0.7027 - binary_crossentropy: 0.7027 - accuracy: 0.0000e+00 - precision_1: 0.5346 - recall_1: 0.6296 - f1_score: 0.5782"
          ]
        },
        {
          "output_type": "stream",
          "name": "stderr",
          "text": [
            "2022/09/01 10:45:52 WARNING mlflow.utils.autologging_utils: Encountered unexpected error during autologging: Got invalid value [0.61986303] for metric 'f1_score' (timestamp=1662029148632). Please specify value as a valid double (64-bit floating point)\n"
          ]
        },
        {
          "output_type": "stream",
          "name": "stdout",
          "text": [
            "\b\b\b\b\b\b\b\b\b\b\b\b\b\b\b\b\b\b\b\b\b\b\b\b\b\b\b\b\b\b\b\b\b\b\b\b\b\b\b\b\b\b\b\b\b\b\b\b\b\b\b\b\b\b\b\b\b\b\b\b\b\b\b\b\b\b\b\b\b\b\b\b\b\b\b\b\b\b\b\b\b\b\b\b\b\b\b\b\b\b\b\b\b\b\b\b\b\b\b\b\b\b\b\b\b\b\b\b\b\b\b\b\b\b\b\b\b\b\b\b\b\b\b\b\b\b\b\b\b\b\b\b\b\b\b\b\b\b\b\b\b\b\b\b\b\b\b\b\b\b\b\b\b\b\b\b\b\b\b\b\b\b\b\b\b\b\b\b\b\b\b\b\b\b\r8/8 [==============================] - 4s 549ms/step - loss: 0.7027 - binary_crossentropy: 0.7027 - accuracy: 0.0000e+00 - precision_1: 0.5346 - recall_1: 0.6296 - f1_score: 0.5782 - val_loss: 0.6307 - val_binary_crossentropy: 0.6307 - val_accuracy: 0.0000e+00 - val_precision_1: 0.7625 - val_recall_1: 1.0000 - val_f1_score: 0.8652\n",
            "Epoch 3/20\n",
            "8/8 [==============================] - ETA: 0s - loss: 0.6945 - binary_crossentropy: 0.6945 - accuracy: 0.0000e+00 - precision_1: 0.5230 - recall_1: 0.7148 - f1_score: 0.6041"
          ]
        },
        {
          "output_type": "stream",
          "name": "stderr",
          "text": [
            "2022/09/01 10:45:57 WARNING mlflow.utils.autologging_utils: Encountered unexpected error during autologging: Got invalid value [0.61986303] for metric 'f1_score' (timestamp=1662029148632). Please specify value as a valid double (64-bit floating point)\n"
          ]
        },
        {
          "output_type": "stream",
          "name": "stdout",
          "text": [
            "\b\b\b\b\b\b\b\b\b\b\b\b\b\b\b\b\b\b\b\b\b\b\b\b\b\b\b\b\b\b\b\b\b\b\b\b\b\b\b\b\b\b\b\b\b\b\b\b\b\b\b\b\b\b\b\b\b\b\b\b\b\b\b\b\b\b\b\b\b\b\b\b\b\b\b\b\b\b\b\b\b\b\b\b\b\b\b\b\b\b\b\b\b\b\b\b\b\b\b\b\b\b\b\b\b\b\b\b\b\b\b\b\b\b\b\b\b\b\b\b\b\b\b\b\b\b\b\b\b\b\b\b\b\b\b\b\b\b\b\b\b\b\b\b\b\b\b\b\b\b\b\b\b\b\b\b\b\b\b\b\b\b\b\b\b\b\b\b\b\b\b\b\b\b\r8/8 [==============================] - 4s 535ms/step - loss: 0.6945 - binary_crossentropy: 0.6945 - accuracy: 0.0000e+00 - precision_1: 0.5230 - recall_1: 0.7148 - f1_score: 0.6041 - val_loss: 0.6359 - val_binary_crossentropy: 0.6359 - val_accuracy: 0.0000e+00 - val_precision_1: 0.7625 - val_recall_1: 1.0000 - val_f1_score: 0.8652\n",
            "Epoch 4/20\n",
            "8/8 [==============================] - ETA: 0s - loss: 0.6781 - binary_crossentropy: 0.6781 - accuracy: 0.0000e+00 - precision_1: 0.5686 - recall_1: 0.8593 - f1_score: 0.6844"
          ]
        },
        {
          "output_type": "stream",
          "name": "stderr",
          "text": [
            "2022/09/01 10:46:01 WARNING mlflow.utils.autologging_utils: Encountered unexpected error during autologging: Got invalid value [0.61986303] for metric 'f1_score' (timestamp=1662029148632). Please specify value as a valid double (64-bit floating point)\n"
          ]
        },
        {
          "output_type": "stream",
          "name": "stdout",
          "text": [
            "\b\b\b\b\b\b\b\b\b\b\b\b\b\b\b\b\b\b\b\b\b\b\b\b\b\b\b\b\b\b\b\b\b\b\b\b\b\b\b\b\b\b\b\b\b\b\b\b\b\b\b\b\b\b\b\b\b\b\b\b\b\b\b\b\b\b\b\b\b\b\b\b\b\b\b\b\b\b\b\b\b\b\b\b\b\b\b\b\b\b\b\b\b\b\b\b\b\b\b\b\b\b\b\b\b\b\b\b\b\b\b\b\b\b\b\b\b\b\b\b\b\b\b\b\b\b\b\b\b\b\b\b\b\b\b\b\b\b\b\b\b\b\b\b\b\b\b\b\b\b\b\b\b\b\b\b\b\b\b\b\b\b\b\b\b\b\b\b\b\b\b\b\b\b\r8/8 [==============================] - 4s 537ms/step - loss: 0.6781 - binary_crossentropy: 0.6781 - accuracy: 0.0000e+00 - precision_1: 0.5686 - recall_1: 0.8593 - f1_score: 0.6844 - val_loss: 0.6438 - val_binary_crossentropy: 0.6438 - val_accuracy: 0.0000e+00 - val_precision_1: 0.7619 - val_recall_1: 0.7869 - val_f1_score: 0.7742\n",
            "Epoch 5/20\n",
            "8/8 [==============================] - ETA: 0s - loss: 0.6297 - binary_crossentropy: 0.6297 - accuracy: 0.0000e+00 - precision_1: 0.6667 - recall_1: 0.8519 - f1_score: 0.7480"
          ]
        },
        {
          "output_type": "stream",
          "name": "stderr",
          "text": [
            "2022/09/01 10:46:05 WARNING mlflow.utils.autologging_utils: Encountered unexpected error during autologging: Got invalid value [0.61986303] for metric 'f1_score' (timestamp=1662029148632). Please specify value as a valid double (64-bit floating point)\n"
          ]
        },
        {
          "output_type": "stream",
          "name": "stdout",
          "text": [
            "\b\b\b\b\b\b\b\b\b\b\b\b\b\b\b\b\b\b\b\b\b\b\b\b\b\b\b\b\b\b\b\b\b\b\b\b\b\b\b\b\b\b\b\b\b\b\b\b\b\b\b\b\b\b\b\b\b\b\b\b\b\b\b\b\b\b\b\b\b\b\b\b\b\b\b\b\b\b\b\b\b\b\b\b\b\b\b\b\b\b\b\b\b\b\b\b\b\b\b\b\b\b\b\b\b\b\b\b\b\b\b\b\b\b\b\b\b\b\b\b\b\b\b\b\b\b\b\b\b\b\b\b\b\b\b\b\b\b\b\b\b\b\b\b\b\b\b\b\b\b\b\b\b\b\b\b\b\b\b\b\b\b\b\b\b\b\b\b\b\b\b\b\b\b\r8/8 [==============================] - 4s 528ms/step - loss: 0.6297 - binary_crossentropy: 0.6297 - accuracy: 0.0000e+00 - precision_1: 0.6667 - recall_1: 0.8519 - f1_score: 0.7480 - val_loss: 0.5531 - val_binary_crossentropy: 0.5531 - val_accuracy: 0.0000e+00 - val_precision_1: 0.9184 - val_recall_1: 0.7377 - val_f1_score: 0.8182\n",
            "Epoch 6/20\n",
            "8/8 [==============================] - ETA: 0s - loss: 0.4719 - binary_crossentropy: 0.4719 - accuracy: 0.0000e+00 - precision_1: 0.8472 - recall_1: 0.8315 - f1_score: 0.8393"
          ]
        },
        {
          "output_type": "stream",
          "name": "stderr",
          "text": [
            "2022/09/01 10:46:10 WARNING mlflow.utils.autologging_utils: Encountered unexpected error during autologging: Got invalid value [0.61986303] for metric 'f1_score' (timestamp=1662029148632). Please specify value as a valid double (64-bit floating point)\n"
          ]
        },
        {
          "output_type": "stream",
          "name": "stdout",
          "text": [
            "\b\b\b\b\b\b\b\b\b\b\b\b\b\b\b\b\b\b\b\b\b\b\b\b\b\b\b\b\b\b\b\b\b\b\b\b\b\b\b\b\b\b\b\b\b\b\b\b\b\b\b\b\b\b\b\b\b\b\b\b\b\b\b\b\b\b\b\b\b\b\b\b\b\b\b\b\b\b\b\b\b\b\b\b\b\b\b\b\b\b\b\b\b\b\b\b\b\b\b\b\b\b\b\b\b\b\b\b\b\b\b\b\b\b\b\b\b\b\b\b\b\b\b\b\b\b\b\b\b\b\b\b\b\b\b\b\b\b\b\b\b\b\b\b\b\b\b\b\b\b\b\b\b\b\b\b\b\b\b\b\b\b\b\b\b\b\b\b\b\b\b\b\b\b\r8/8 [==============================] - 4s 541ms/step - loss: 0.4719 - binary_crossentropy: 0.4719 - accuracy: 0.0000e+00 - precision_1: 0.8472 - recall_1: 0.8315 - f1_score: 0.8393 - val_loss: 0.3350 - val_binary_crossentropy: 0.3350 - val_accuracy: 0.0000e+00 - val_precision_1: 0.9273 - val_recall_1: 0.8361 - val_f1_score: 0.8793\n",
            "Epoch 7/20\n",
            "8/8 [==============================] - ETA: 0s - loss: 0.3743 - binary_crossentropy: 0.3743 - accuracy: 0.0000e+00 - precision_1: 0.9061 - recall_1: 0.8759 - f1_score: 0.8908"
          ]
        },
        {
          "output_type": "stream",
          "name": "stderr",
          "text": [
            "2022/09/01 10:46:14 WARNING mlflow.utils.autologging_utils: Encountered unexpected error during autologging: Got invalid value [0.61986303] for metric 'f1_score' (timestamp=1662029148632). Please specify value as a valid double (64-bit floating point)\n"
          ]
        },
        {
          "output_type": "stream",
          "name": "stdout",
          "text": [
            "\b\b\b\b\b\b\b\b\b\b\b\b\b\b\b\b\b\b\b\b\b\b\b\b\b\b\b\b\b\b\b\b\b\b\b\b\b\b\b\b\b\b\b\b\b\b\b\b\b\b\b\b\b\b\b\b\b\b\b\b\b\b\b\b\b\b\b\b\b\b\b\b\b\b\b\b\b\b\b\b\b\b\b\b\b\b\b\b\b\b\b\b\b\b\b\b\b\b\b\b\b\b\b\b\b\b\b\b\b\b\b\b\b\b\b\b\b\b\b\b\b\b\b\b\b\b\b\b\b\b\b\b\b\b\b\b\b\b\b\b\b\b\b\b\b\b\b\b\b\b\b\b\b\b\b\b\b\b\b\b\b\b\b\b\b\b\b\b\b\b\b\b\b\b\r8/8 [==============================] - 4s 538ms/step - loss: 0.3743 - binary_crossentropy: 0.3743 - accuracy: 0.0000e+00 - precision_1: 0.9061 - recall_1: 0.8759 - f1_score: 0.8908 - val_loss: 0.2233 - val_binary_crossentropy: 0.2233 - val_accuracy: 0.0000e+00 - val_precision_1: 0.9516 - val_recall_1: 0.9672 - val_f1_score: 0.9593\n",
            "Epoch 8/20\n",
            "8/8 [==============================] - ETA: 0s - loss: 0.3722 - binary_crossentropy: 0.3722 - accuracy: 0.0000e+00 - precision_1: 0.8980 - recall_1: 0.8481 - f1_score: 0.8724"
          ]
        },
        {
          "output_type": "stream",
          "name": "stderr",
          "text": [
            "2022/09/01 10:46:18 WARNING mlflow.utils.autologging_utils: Encountered unexpected error during autologging: Got invalid value [0.61986303] for metric 'f1_score' (timestamp=1662029148632). Please specify value as a valid double (64-bit floating point)\n"
          ]
        },
        {
          "output_type": "stream",
          "name": "stdout",
          "text": [
            "\b\b\b\b\b\b\b\b\b\b\b\b\b\b\b\b\b\b\b\b\b\b\b\b\b\b\b\b\b\b\b\b\b\b\b\b\b\b\b\b\b\b\b\b\b\b\b\b\b\b\b\b\b\b\b\b\b\b\b\b\b\b\b\b\b\b\b\b\b\b\b\b\b\b\b\b\b\b\b\b\b\b\b\b\b\b\b\b\b\b\b\b\b\b\b\b\b\b\b\b\b\b\b\b\b\b\b\b\b\b\b\b\b\b\b\b\b\b\b\b\b\b\b\b\b\b\b\b\b\b\b\b\b\b\b\b\b\b\b\b\b\b\b\b\b\b\b\b\b\b\b\b\b\b\b\b\b\b\b\b\b\b\b\b\b\b\b\b\b\b\b\b\b\b\r8/8 [==============================] - 4s 516ms/step - loss: 0.3722 - binary_crossentropy: 0.3722 - accuracy: 0.0000e+00 - precision_1: 0.8980 - recall_1: 0.8481 - f1_score: 0.8724 - val_loss: 0.2444 - val_binary_crossentropy: 0.2444 - val_accuracy: 0.0000e+00 - val_precision_1: 0.9365 - val_recall_1: 0.9672 - val_f1_score: 0.9516\n",
            "Epoch 9/20\n",
            "8/8 [==============================] - ETA: 0s - loss: 0.2537 - binary_crossentropy: 0.2537 - accuracy: 0.0000e+00 - precision_1: 0.9264 - recall_1: 0.9093 - f1_score: 0.9178"
          ]
        },
        {
          "output_type": "stream",
          "name": "stderr",
          "text": [
            "2022/09/01 10:46:22 WARNING mlflow.utils.autologging_utils: Encountered unexpected error during autologging: Got invalid value [0.61986303] for metric 'f1_score' (timestamp=1662029148632). Please specify value as a valid double (64-bit floating point)\n"
          ]
        },
        {
          "output_type": "stream",
          "name": "stdout",
          "text": [
            "\b\b\b\b\b\b\b\b\b\b\b\b\b\b\b\b\b\b\b\b\b\b\b\b\b\b\b\b\b\b\b\b\b\b\b\b\b\b\b\b\b\b\b\b\b\b\b\b\b\b\b\b\b\b\b\b\b\b\b\b\b\b\b\b\b\b\b\b\b\b\b\b\b\b\b\b\b\b\b\b\b\b\b\b\b\b\b\b\b\b\b\b\b\b\b\b\b\b\b\b\b\b\b\b\b\b\b\b\b\b\b\b\b\b\b\b\b\b\b\b\b\b\b\b\b\b\b\b\b\b\b\b\b\b\b\b\b\b\b\b\b\b\b\b\b\b\b\b\b\b\b\b\b\b\b\b\b\b\b\b\b\b\b\b\b\b\b\b\b\b\b\b\b\b\r8/8 [==============================] - 4s 514ms/step - loss: 0.2537 - binary_crossentropy: 0.2537 - accuracy: 0.0000e+00 - precision_1: 0.9264 - recall_1: 0.9093 - f1_score: 0.9178 - val_loss: 0.1938 - val_binary_crossentropy: 0.1938 - val_accuracy: 0.0000e+00 - val_precision_1: 0.9667 - val_recall_1: 0.9508 - val_f1_score: 0.9587\n",
            "Epoch 10/20\n",
            "8/8 [==============================] - ETA: 0s - loss: 0.1675 - binary_crossentropy: 0.1675 - accuracy: 0.0000e+00 - precision_1: 0.9405 - recall_1: 0.9370 - f1_score: 0.9388"
          ]
        },
        {
          "output_type": "stream",
          "name": "stderr",
          "text": [
            "2022/09/01 10:46:26 WARNING mlflow.utils.autologging_utils: Encountered unexpected error during autologging: Got invalid value [0.61986303] for metric 'f1_score' (timestamp=1662029148632). Please specify value as a valid double (64-bit floating point)\n"
          ]
        },
        {
          "output_type": "stream",
          "name": "stdout",
          "text": [
            "\b\b\b\b\b\b\b\b\b\b\b\b\b\b\b\b\b\b\b\b\b\b\b\b\b\b\b\b\b\b\b\b\b\b\b\b\b\b\b\b\b\b\b\b\b\b\b\b\b\b\b\b\b\b\b\b\b\b\b\b\b\b\b\b\b\b\b\b\b\b\b\b\b\b\b\b\b\b\b\b\b\b\b\b\b\b\b\b\b\b\b\b\b\b\b\b\b\b\b\b\b\b\b\b\b\b\b\b\b\b\b\b\b\b\b\b\b\b\b\b\b\b\b\b\b\b\b\b\b\b\b\b\b\b\b\b\b\b\b\b\b\b\b\b\b\b\b\b\b\b\b\b\b\b\b\b\b\b\b\b\b\b\b\b\b\b\b\b\b\b\b\b\b\b\r8/8 [==============================] - 4s 514ms/step - loss: 0.1675 - binary_crossentropy: 0.1675 - accuracy: 0.0000e+00 - precision_1: 0.9405 - recall_1: 0.9370 - f1_score: 0.9388 - val_loss: 0.1985 - val_binary_crossentropy: 0.1985 - val_accuracy: 0.0000e+00 - val_precision_1: 0.9828 - val_recall_1: 0.9344 - val_f1_score: 0.9580\n",
            "Epoch 11/20\n",
            "8/8 [==============================] - ETA: 0s - loss: 0.1254 - binary_crossentropy: 0.1254 - accuracy: 0.0000e+00 - precision_1: 0.9551 - recall_1: 0.9463 - f1_score: 0.9507"
          ]
        },
        {
          "output_type": "stream",
          "name": "stderr",
          "text": [
            "2022/09/01 10:46:30 WARNING mlflow.utils.autologging_utils: Encountered unexpected error during autologging: Got invalid value [0.61986303] for metric 'f1_score' (timestamp=1662029148632). Please specify value as a valid double (64-bit floating point)\n"
          ]
        },
        {
          "output_type": "stream",
          "name": "stdout",
          "text": [
            "\b\b\b\b\b\b\b\b\b\b\b\b\b\b\b\b\b\b\b\b\b\b\b\b\b\b\b\b\b\b\b\b\b\b\b\b\b\b\b\b\b\b\b\b\b\b\b\b\b\b\b\b\b\b\b\b\b\b\b\b\b\b\b\b\b\b\b\b\b\b\b\b\b\b\b\b\b\b\b\b\b\b\b\b\b\b\b\b\b\b\b\b\b\b\b\b\b\b\b\b\b\b\b\b\b\b\b\b\b\b\b\b\b\b\b\b\b\b\b\b\b\b\b\b\b\b\b\b\b\b\b\b\b\b\b\b\b\b\b\b\b\b\b\b\b\b\b\b\b\b\b\b\b\b\b\b\b\b\b\b\b\b\b\b\b\b\b\b\b\b\b\b\b\b\r8/8 [==============================] - 4s 511ms/step - loss: 0.1254 - binary_crossentropy: 0.1254 - accuracy: 0.0000e+00 - precision_1: 0.9551 - recall_1: 0.9463 - f1_score: 0.9507 - val_loss: 0.2242 - val_binary_crossentropy: 0.2242 - val_accuracy: 0.0000e+00 - val_precision_1: 0.9828 - val_recall_1: 0.9344 - val_f1_score: 0.9580\n",
            "Epoch 12/20\n",
            "8/8 [==============================] - ETA: 0s - loss: 0.1092 - binary_crossentropy: 0.1092 - accuracy: 0.0000e+00 - precision_1: 0.9522 - recall_1: 0.9593 - f1_score: 0.9557"
          ]
        },
        {
          "output_type": "stream",
          "name": "stderr",
          "text": [
            "2022/09/01 10:46:34 WARNING mlflow.utils.autologging_utils: Encountered unexpected error during autologging: Got invalid value [0.61986303] for metric 'f1_score' (timestamp=1662029148632). Please specify value as a valid double (64-bit floating point)\n"
          ]
        },
        {
          "output_type": "stream",
          "name": "stdout",
          "text": [
            "\b\b\b\b\b\b\b\b\b\b\b\b\b\b\b\b\b\b\b\b\b\b\b\b\b\b\b\b\b\b\b\b\b\b\b\b\b\b\b\b\b\b\b\b\b\b\b\b\b\b\b\b\b\b\b\b\b\b\b\b\b\b\b\b\b\b\b\b\b\b\b\b\b\b\b\b\b\b\b\b\b\b\b\b\b\b\b\b\b\b\b\b\b\b\b\b\b\b\b\b\b\b\b\b\b\b\b\b\b\b\b\b\b\b\b\b\b\b\b\b\b\b\b\b\b\b\b\b\b\b\b\b\b\b\b\b\b\b\b\b\b\b\b\b\b\b\b\b\b\b\b\b\b\b\b\b\b\b\b\b\b\b\b\b\b\b\b\b\b\b\b\b\b\b\r8/8 [==============================] - 4s 511ms/step - loss: 0.1092 - binary_crossentropy: 0.1092 - accuracy: 0.0000e+00 - precision_1: 0.9522 - recall_1: 0.9593 - f1_score: 0.9557 - val_loss: 0.2362 - val_binary_crossentropy: 0.2362 - val_accuracy: 0.0000e+00 - val_precision_1: 0.9828 - val_recall_1: 0.9344 - val_f1_score: 0.9580\n",
            "Epoch 13/20\n",
            "8/8 [==============================] - ETA: 0s - loss: 0.1032 - binary_crossentropy: 0.1032 - accuracy: 0.0000e+00 - precision_1: 0.9573 - recall_1: 0.9556 - f1_score: 0.9564"
          ]
        },
        {
          "output_type": "stream",
          "name": "stderr",
          "text": [
            "2022/09/01 10:46:39 WARNING mlflow.utils.autologging_utils: Encountered unexpected error during autologging: Got invalid value [0.61986303] for metric 'f1_score' (timestamp=1662029148632). Please specify value as a valid double (64-bit floating point)\n"
          ]
        },
        {
          "output_type": "stream",
          "name": "stdout",
          "text": [
            "\b\b\b\b\b\b\b\b\b\b\b\b\b\b\b\b\b\b\b\b\b\b\b\b\b\b\b\b\b\b\b\b\b\b\b\b\b\b\b\b\b\b\b\b\b\b\b\b\b\b\b\b\b\b\b\b\b\b\b\b\b\b\b\b\b\b\b\b\b\b\b\b\b\b\b\b\b\b\b\b\b\b\b\b\b\b\b\b\b\b\b\b\b\b\b\b\b\b\b\b\b\b\b\b\b\b\b\b\b\b\b\b\b\b\b\b\b\b\b\b\b\b\b\b\b\b\b\b\b\b\b\b\b\b\b\b\b\b\b\b\b\b\b\b\b\b\b\b\b\b\b\b\b\b\b\b\b\b\b\b\b\b\b\b\b\b\b\b\b\b\b\b\b\b\r8/8 [==============================] - 4s 528ms/step - loss: 0.1032 - binary_crossentropy: 0.1032 - accuracy: 0.0000e+00 - precision_1: 0.9573 - recall_1: 0.9556 - f1_score: 0.9564 - val_loss: 0.1762 - val_binary_crossentropy: 0.1762 - val_accuracy: 0.0375 - val_precision_1: 0.9831 - val_recall_1: 0.9508 - val_f1_score: 0.9667\n",
            "Epoch 14/20\n",
            "8/8 [==============================] - ETA: 0s - loss: 0.0977 - binary_crossentropy: 0.0977 - accuracy: 0.0293 - precision_1: 0.9565 - recall_1: 0.9778 - f1_score: 0.9670"
          ]
        },
        {
          "output_type": "stream",
          "name": "stderr",
          "text": [
            "2022/09/01 10:46:43 WARNING mlflow.utils.autologging_utils: Encountered unexpected error during autologging: Got invalid value [0.61986303] for metric 'f1_score' (timestamp=1662029148632). Please specify value as a valid double (64-bit floating point)\n"
          ]
        },
        {
          "output_type": "stream",
          "name": "stdout",
          "text": [
            "\b\b\b\b\b\b\b\b\b\b\b\b\b\b\b\b\b\b\b\b\b\b\b\b\b\b\b\b\b\b\b\b\b\b\b\b\b\b\b\b\b\b\b\b\b\b\b\b\b\b\b\b\b\b\b\b\b\b\b\b\b\b\b\b\b\b\b\b\b\b\b\b\b\b\b\b\b\b\b\b\b\b\b\b\b\b\b\b\b\b\b\b\b\b\b\b\b\b\b\b\b\b\b\b\b\b\b\b\b\b\b\b\b\b\b\b\b\b\b\b\b\b\b\b\b\b\b\b\b\b\b\b\b\b\b\b\b\b\b\b\b\b\b\b\b\b\b\b\b\b\b\b\b\b\b\b\b\b\b\b\b\b\b\b\b\b\b\b\b\b\r8/8 [==============================] - 4s 509ms/step - loss: 0.0977 - binary_crossentropy: 0.0977 - accuracy: 0.0293 - precision_1: 0.9565 - recall_1: 0.9778 - f1_score: 0.9670 - val_loss: 0.2613 - val_binary_crossentropy: 0.2613 - val_accuracy: 0.0000e+00 - val_precision_1: 0.9828 - val_recall_1: 0.9344 - val_f1_score: 0.9580\n",
            "Epoch 15/20\n",
            "8/8 [==============================] - ETA: 0s - loss: 0.1264 - binary_crossentropy: 0.1264 - accuracy: 0.0094 - precision_1: 0.9314 - recall_1: 0.9556 - f1_score: 0.9433"
          ]
        },
        {
          "output_type": "stream",
          "name": "stderr",
          "text": [
            "2022/09/01 10:46:47 WARNING mlflow.utils.autologging_utils: Encountered unexpected error during autologging: Got invalid value [0.61986303] for metric 'f1_score' (timestamp=1662029148632). Please specify value as a valid double (64-bit floating point)\n"
          ]
        },
        {
          "output_type": "stream",
          "name": "stdout",
          "text": [
            "\b\b\b\b\b\b\b\b\b\b\b\b\b\b\b\b\b\b\b\b\b\b\b\b\b\b\b\b\b\b\b\b\b\b\b\b\b\b\b\b\b\b\b\b\b\b\b\b\b\b\b\b\b\b\b\b\b\b\b\b\b\b\b\b\b\b\b\b\b\b\b\b\b\b\b\b\b\b\b\b\b\b\b\b\b\b\b\b\b\b\b\b\b\b\b\b\b\b\b\b\b\b\b\b\b\b\b\b\b\b\b\b\b\b\b\b\b\b\b\b\b\b\b\b\b\b\b\b\b\b\b\b\b\b\b\b\b\b\b\b\b\b\b\b\b\b\b\b\b\b\b\b\b\b\b\b\b\b\b\b\b\b\b\b\b\b\b\b\b\b\r8/8 [==============================] - 4s 512ms/step - loss: 0.1264 - binary_crossentropy: 0.1264 - accuracy: 0.0094 - precision_1: 0.9314 - recall_1: 0.9556 - f1_score: 0.9433 - val_loss: 0.3354 - val_binary_crossentropy: 0.3354 - val_accuracy: 0.0000e+00 - val_precision_1: 0.9818 - val_recall_1: 0.8852 - val_f1_score: 0.9310\n",
            "Epoch 16/20\n",
            "8/8 [==============================] - ETA: 0s - loss: 0.1086 - binary_crossentropy: 0.1086 - accuracy: 0.0585 - precision_1: 0.9580 - recall_1: 0.9722 - f1_score: 0.9651"
          ]
        },
        {
          "output_type": "stream",
          "name": "stderr",
          "text": [
            "2022/09/01 10:46:51 WARNING mlflow.utils.autologging_utils: Encountered unexpected error during autologging: Got invalid value [0.61986303] for metric 'f1_score' (timestamp=1662029148632). Please specify value as a valid double (64-bit floating point)\n"
          ]
        },
        {
          "output_type": "stream",
          "name": "stdout",
          "text": [
            "\b\b\b\b\b\b\b\b\b\b\b\b\b\b\b\b\b\b\b\b\b\b\b\b\b\b\b\b\b\b\b\b\b\b\b\b\b\b\b\b\b\b\b\b\b\b\b\b\b\b\b\b\b\b\b\b\b\b\b\b\b\b\b\b\b\b\b\b\b\b\b\b\b\b\b\b\b\b\b\b\b\b\b\b\b\b\b\b\b\b\b\b\b\b\b\b\b\b\b\b\b\b\b\b\b\b\b\b\b\b\b\b\b\b\b\b\b\b\b\b\b\b\b\b\b\b\b\b\b\b\b\b\b\b\b\b\b\b\b\b\b\b\b\b\b\b\b\b\b\b\b\b\b\b\b\b\b\b\b\b\b\b\b\b\b\b\b\b\b\b\r8/8 [==============================] - 4s 516ms/step - loss: 0.1086 - binary_crossentropy: 0.1086 - accuracy: 0.0585 - precision_1: 0.9580 - recall_1: 0.9722 - f1_score: 0.9651 - val_loss: 0.2738 - val_binary_crossentropy: 0.2738 - val_accuracy: 0.1000 - val_precision_1: 0.9818 - val_recall_1: 0.8852 - val_f1_score: 0.9310\n",
            "Epoch 17/20\n",
            "8/8 [==============================] - ETA: 0s - loss: 0.1099 - binary_crossentropy: 0.1099 - accuracy: 0.1369 - precision_1: 0.9610 - recall_1: 0.9593 - f1_score: 0.9601"
          ]
        },
        {
          "output_type": "stream",
          "name": "stderr",
          "text": [
            "2022/09/01 10:46:55 WARNING mlflow.utils.autologging_utils: Encountered unexpected error during autologging: Got invalid value [0.61986303] for metric 'f1_score' (timestamp=1662029148632). Please specify value as a valid double (64-bit floating point)\n"
          ]
        },
        {
          "output_type": "stream",
          "name": "stdout",
          "text": [
            "\b\b\b\b\b\b\b\b\b\b\b\b\b\b\b\b\b\b\b\b\b\b\b\b\b\b\b\b\b\b\b\b\b\b\b\b\b\b\b\b\b\b\b\b\b\b\b\b\b\b\b\b\b\b\b\b\b\b\b\b\b\b\b\b\b\b\b\b\b\b\b\b\b\b\b\b\b\b\b\b\b\b\b\b\b\b\b\b\b\b\b\b\b\b\b\b\b\b\b\b\b\b\b\b\b\b\b\b\b\b\b\b\b\b\b\b\b\b\b\b\b\b\b\b\b\b\b\b\b\b\b\b\b\b\b\b\b\b\b\b\b\b\b\b\b\b\b\b\b\b\b\b\b\b\b\b\b\b\b\b\b\b\b\b\b\b\b\b\b\b\r8/8 [==============================] - 4s 509ms/step - loss: 0.1099 - binary_crossentropy: 0.1099 - accuracy: 0.1369 - precision_1: 0.9610 - recall_1: 0.9593 - f1_score: 0.9601 - val_loss: 0.3174 - val_binary_crossentropy: 0.3174 - val_accuracy: 0.1125 - val_precision_1: 0.9825 - val_recall_1: 0.9180 - val_f1_score: 0.9492\n",
            "Epoch 18/20\n",
            "8/8 [==============================] - ETA: 0s - loss: 0.1004 - binary_crossentropy: 0.1004 - accuracy: 0.0680 - precision_1: 0.9527 - recall_1: 0.9704 - f1_score: 0.9615"
          ]
        },
        {
          "output_type": "stream",
          "name": "stderr",
          "text": [
            "2022/09/01 10:46:59 WARNING mlflow.utils.autologging_utils: Encountered unexpected error during autologging: Got invalid value [0.61986303] for metric 'f1_score' (timestamp=1662029148632). Please specify value as a valid double (64-bit floating point)\n"
          ]
        },
        {
          "output_type": "stream",
          "name": "stdout",
          "text": [
            "\b\b\b\b\b\b\b\b\b\b\b\b\b\b\b\b\b\b\b\b\b\b\b\b\b\b\b\b\b\b\b\b\b\b\b\b\b\b\b\b\b\b\b\b\b\b\b\b\b\b\b\b\b\b\b\b\b\b\b\b\b\b\b\b\b\b\b\b\b\b\b\b\b\b\b\b\b\b\b\b\b\b\b\b\b\b\b\b\b\b\b\b\b\b\b\b\b\b\b\b\b\b\b\b\b\b\b\b\b\b\b\b\b\b\b\b\b\b\b\b\b\b\b\b\b\b\b\b\b\b\b\b\b\b\b\b\b\b\b\b\b\b\b\b\b\b\b\b\b\b\b\b\b\b\b\b\b\b\b\b\b\b\b\b\b\b\b\b\b\b\r8/8 [==============================] - 4s 514ms/step - loss: 0.1004 - binary_crossentropy: 0.1004 - accuracy: 0.0680 - precision_1: 0.9527 - recall_1: 0.9704 - f1_score: 0.9615 - val_loss: 0.2846 - val_binary_crossentropy: 0.2846 - val_accuracy: 0.0750 - val_precision_1: 0.9828 - val_recall_1: 0.9344 - val_f1_score: 0.9580\n",
            "Epoch 19/20\n",
            "8/8 [==============================] - ETA: 0s - loss: 0.1189 - binary_crossentropy: 0.1189 - accuracy: 0.1048 - precision_1: 0.9507 - recall_1: 0.9648 - f1_score: 0.9577"
          ]
        },
        {
          "output_type": "stream",
          "name": "stderr",
          "text": [
            "2022/09/01 10:47:03 WARNING mlflow.utils.autologging_utils: Encountered unexpected error during autologging: Got invalid value [0.61986303] for metric 'f1_score' (timestamp=1662029148632). Please specify value as a valid double (64-bit floating point)\n"
          ]
        },
        {
          "output_type": "stream",
          "name": "stdout",
          "text": [
            "\b\b\b\b\b\b\b\b\b\b\b\b\b\b\b\b\b\b\b\b\b\b\b\b\b\b\b\b\b\b\b\b\b\b\b\b\b\b\b\b\b\b\b\b\b\b\b\b\b\b\b\b\b\b\b\b\b\b\b\b\b\b\b\b\b\b\b\b\b\b\b\b\b\b\b\b\b\b\b\b\b\b\b\b\b\b\b\b\b\b\b\b\b\b\b\b\b\b\b\b\b\b\b\b\b\b\b\b\b\b\b\b\b\b\b\b\b\b\b\b\b\b\b\b\b\b\b\b\b\b\b\b\b\b\b\b\b\b\b\b\b\b\b\b\b\b\b\b\b\b\b\b\b\b\b\b\b\b\b\b\b\b\b\b\b\b\b\b\b\b\r8/8 [==============================] - 4s 520ms/step - loss: 0.1189 - binary_crossentropy: 0.1189 - accuracy: 0.1048 - precision_1: 0.9507 - recall_1: 0.9648 - f1_score: 0.9577 - val_loss: 0.1439 - val_binary_crossentropy: 0.1439 - val_accuracy: 0.0750 - val_precision_1: 0.9831 - val_recall_1: 0.9508 - val_f1_score: 0.9667\n",
            "Epoch 20/20\n",
            "8/8 [==============================] - ETA: 0s - loss: 0.0925 - binary_crossentropy: 0.0925 - accuracy: 0.0907 - precision_1: 0.9769 - recall_1: 0.9389 - f1_score: 0.9575"
          ]
        },
        {
          "output_type": "stream",
          "name": "stderr",
          "text": [
            "2022/09/01 10:47:07 WARNING mlflow.utils.autologging_utils: Encountered unexpected error during autologging: Got invalid value [0.61986303] for metric 'f1_score' (timestamp=1662029148632). Please specify value as a valid double (64-bit floating point)\n"
          ]
        },
        {
          "output_type": "stream",
          "name": "stdout",
          "text": [
            "\b\b\b\b\b\b\b\b\b\b\b\b\b\b\b\b\b\b\b\b\b\b\b\b\b\b\b\b\b\b\b\b\b\b\b\b\b\b\b\b\b\b\b\b\b\b\b\b\b\b\b\b\b\b\b\b\b\b\b\b\b\b\b\b\b\b\b\b\b\b\b\b\b\b\b\b\b\b\b\b\b\b\b\b\b\b\b\b\b\b\b\b\b\b\b\b\b\b\b\b\b\b\b\b\b\b\b\b\b\b\b\b\b\b\b\b\b\b\b\b\b\b\b\b\b\b\b\b\b\b\b\b\b\b\b\b\b\b\b\b\b\b\b\b\b\b\b\b\b\b\b\b\b\b\b\b\b\b\b\b\b\b\b\b\b\b\b\b\b\b\r8/8 [==============================] - 4s 514ms/step - loss: 0.0925 - binary_crossentropy: 0.0925 - accuracy: 0.0907 - precision_1: 0.9769 - recall_1: 0.9389 - f1_score: 0.9575 - val_loss: 0.1922 - val_binary_crossentropy: 0.1922 - val_accuracy: 0.3125 - val_precision_1: 0.9831 - val_recall_1: 0.9508 - val_f1_score: 0.9667\n"
          ]
        },
        {
          "output_type": "stream",
          "name": "stderr",
          "text": [
            "2022/09/01 10:47:08 WARNING mlflow.utils.requirements_utils: Found tensorflow version (2.8.2+zzzcolab20220719082949) contains a local version label (+zzzcolab20220719082949). MLflow logged a pip requirement for this package as 'tensorflow==2.8.2' without the local version label to make it installable from PyPI. To specify pip requirements containing local version labels, please use `conda_env` or `pip_requirements`.\n",
            "2022/09/01 10:47:13 WARNING mlflow.utils.environment: Encountered an unexpected error while inferring pip requirements (model URI: /tmp/tmpunmpqf02/model, flavor: keras), fall back to return ['tensorflow==2.8.2', 'keras==2.8.0']. Set logging level to DEBUG to see the full traceback.\n",
            "2022/09/01 10:47:13 WARNING mlflow.utils.autologging_utils: Encountered unexpected error during keras autologging: Got invalid value [0.61986303] for metric 'f1_score' (timestamp=1662029148632). Please specify value as a valid double (64-bit floating point)\n"
          ]
        },
        {
          "output_type": "display_data",
          "data": {
            "text/html": [
              "<html>\n",
              "<head><meta charset=\"utf-8\" /></head>\n",
              "<body>\n",
              "    <div>            <script src=\"https://cdnjs.cloudflare.com/ajax/libs/mathjax/2.7.5/MathJax.js?config=TeX-AMS-MML_SVG\"></script><script type=\"text/javascript\">if (window.MathJax) {MathJax.Hub.Config({SVG: {font: \"STIX-Web\"}});}</script>                <script type=\"text/javascript\">window.PlotlyConfig = {MathJaxConfig: 'local'};</script>\n",
              "        <script src=\"https://cdn.plot.ly/plotly-2.8.3.min.js\"></script>                <div id=\"edb7c8ca-f2b8-4dcd-8b5f-7d0f735156dc\" class=\"plotly-graph-div\" style=\"height:525px; width:100%;\"></div>            <script type=\"text/javascript\">                                    window.PLOTLYENV=window.PLOTLYENV || {};                                    if (document.getElementById(\"edb7c8ca-f2b8-4dcd-8b5f-7d0f735156dc\")) {                    Plotly.newPlot(                        \"edb7c8ca-f2b8-4dcd-8b5f-7d0f735156dc\",                        [{\"marker\":{\"color\":\"gray\"},\"mode\":\"lines\",\"name\":\"Loss\",\"x\":[0,1,2,3,4,5,6,7,8,9,10,11,12,13,14,15,16,17,18,19],\"y\":[1.2999911308288574,0.7027174830436707,0.6944541931152344,0.6780627965927124,0.6297352313995361,0.47185006737709045,0.37425386905670166,0.37221330404281616,0.2537224590778351,0.16745099425315857,0.1253586709499359,0.10923538357019424,0.10316401720046997,0.09769251197576523,0.1263553649187088,0.10861451178789139,0.10993954539299011,0.1004391685128212,0.11892902106046677,0.09253513067960739],\"type\":\"scatter\",\"xaxis\":\"x\",\"yaxis\":\"y\"},{\"marker\":{\"color\":\"blue\"},\"mode\":\"lines\",\"name\":\"Val loss\",\"x\":[0,1,2,3,4,5,6,7,8,9,10,11,12,13,14,15,16,17,18,19],\"y\":[0.9047315716743469,0.6307166814804077,0.6358882784843445,0.6438223123550415,0.5530568957328796,0.3350144326686859,0.22325654327869415,0.24444599449634552,0.19379658997058868,0.19846287369728088,0.22417449951171875,0.2361646145582199,0.1761610358953476,0.26125404238700867,0.33540230989456177,0.27377909421920776,0.3174414038658142,0.28460901975631714,0.14394637942314148,0.19217786192893982],\"type\":\"scatter\",\"xaxis\":\"x\",\"yaxis\":\"y\"},{\"marker\":{\"color\":\"gray\"},\"mode\":\"lines\",\"name\":\"F1 score\",\"x\":[0,1,2,3,4,5,6,7,8,9,10,11,12,13,14,15,16,17,18,19],\"y\":[0.6198630332946777,0.5782313346862793,0.6040688753128052,0.6843658089637756,0.7479674816131592,0.839252233505249,0.8907721638679504,0.8723809123039246,0.9177570343017578,0.9387755393981934,0.950697660446167,0.9557195901870728,0.9564411044120789,0.9670330286026001,0.9433272480964661,0.9650735855102539,0.9601483345031738,0.9614678621292114,0.9577206373214722,0.9575071334838867],\"type\":\"scatter\",\"xaxis\":\"x2\",\"yaxis\":\"y2\"},{\"marker\":{\"color\":\"blue\"},\"mode\":\"lines\",\"name\":\"Val F1 score\",\"x\":[0,1,2,3,4,5,6,7,8,9,10,11,12,13,14,15,16,17,18,19],\"y\":[0.0,0.8652482032775879,0.8652482032775879,0.7741935849189758,0.8181818127632141,0.8793103098869324,0.9593495726585388,0.9516128301620483,0.9586777091026306,0.9579832553863525,0.9579832553863525,0.9579832553863525,0.9666666388511658,0.9579832553863525,0.931034505367279,0.931034505367279,0.9491525888442993,0.9579832553863525,0.9666666388511658,0.9666666388511658],\"type\":\"scatter\",\"xaxis\":\"x2\",\"yaxis\":\"y2\"}],                        {\"template\":{\"data\":{\"bar\":[{\"error_x\":{\"color\":\"#2a3f5f\"},\"error_y\":{\"color\":\"#2a3f5f\"},\"marker\":{\"line\":{\"color\":\"#E5ECF6\",\"width\":0.5},\"pattern\":{\"fillmode\":\"overlay\",\"size\":10,\"solidity\":0.2}},\"type\":\"bar\"}],\"barpolar\":[{\"marker\":{\"line\":{\"color\":\"#E5ECF6\",\"width\":0.5},\"pattern\":{\"fillmode\":\"overlay\",\"size\":10,\"solidity\":0.2}},\"type\":\"barpolar\"}],\"carpet\":[{\"aaxis\":{\"endlinecolor\":\"#2a3f5f\",\"gridcolor\":\"white\",\"linecolor\":\"white\",\"minorgridcolor\":\"white\",\"startlinecolor\":\"#2a3f5f\"},\"baxis\":{\"endlinecolor\":\"#2a3f5f\",\"gridcolor\":\"white\",\"linecolor\":\"white\",\"minorgridcolor\":\"white\",\"startlinecolor\":\"#2a3f5f\"},\"type\":\"carpet\"}],\"choropleth\":[{\"colorbar\":{\"outlinewidth\":0,\"ticks\":\"\"},\"type\":\"choropleth\"}],\"contour\":[{\"colorbar\":{\"outlinewidth\":0,\"ticks\":\"\"},\"colorscale\":[[0.0,\"#0d0887\"],[0.1111111111111111,\"#46039f\"],[0.2222222222222222,\"#7201a8\"],[0.3333333333333333,\"#9c179e\"],[0.4444444444444444,\"#bd3786\"],[0.5555555555555556,\"#d8576b\"],[0.6666666666666666,\"#ed7953\"],[0.7777777777777778,\"#fb9f3a\"],[0.8888888888888888,\"#fdca26\"],[1.0,\"#f0f921\"]],\"type\":\"contour\"}],\"contourcarpet\":[{\"colorbar\":{\"outlinewidth\":0,\"ticks\":\"\"},\"type\":\"contourcarpet\"}],\"heatmap\":[{\"colorbar\":{\"outlinewidth\":0,\"ticks\":\"\"},\"colorscale\":[[0.0,\"#0d0887\"],[0.1111111111111111,\"#46039f\"],[0.2222222222222222,\"#7201a8\"],[0.3333333333333333,\"#9c179e\"],[0.4444444444444444,\"#bd3786\"],[0.5555555555555556,\"#d8576b\"],[0.6666666666666666,\"#ed7953\"],[0.7777777777777778,\"#fb9f3a\"],[0.8888888888888888,\"#fdca26\"],[1.0,\"#f0f921\"]],\"type\":\"heatmap\"}],\"heatmapgl\":[{\"colorbar\":{\"outlinewidth\":0,\"ticks\":\"\"},\"colorscale\":[[0.0,\"#0d0887\"],[0.1111111111111111,\"#46039f\"],[0.2222222222222222,\"#7201a8\"],[0.3333333333333333,\"#9c179e\"],[0.4444444444444444,\"#bd3786\"],[0.5555555555555556,\"#d8576b\"],[0.6666666666666666,\"#ed7953\"],[0.7777777777777778,\"#fb9f3a\"],[0.8888888888888888,\"#fdca26\"],[1.0,\"#f0f921\"]],\"type\":\"heatmapgl\"}],\"histogram\":[{\"marker\":{\"pattern\":{\"fillmode\":\"overlay\",\"size\":10,\"solidity\":0.2}},\"type\":\"histogram\"}],\"histogram2d\":[{\"colorbar\":{\"outlinewidth\":0,\"ticks\":\"\"},\"colorscale\":[[0.0,\"#0d0887\"],[0.1111111111111111,\"#46039f\"],[0.2222222222222222,\"#7201a8\"],[0.3333333333333333,\"#9c179e\"],[0.4444444444444444,\"#bd3786\"],[0.5555555555555556,\"#d8576b\"],[0.6666666666666666,\"#ed7953\"],[0.7777777777777778,\"#fb9f3a\"],[0.8888888888888888,\"#fdca26\"],[1.0,\"#f0f921\"]],\"type\":\"histogram2d\"}],\"histogram2dcontour\":[{\"colorbar\":{\"outlinewidth\":0,\"ticks\":\"\"},\"colorscale\":[[0.0,\"#0d0887\"],[0.1111111111111111,\"#46039f\"],[0.2222222222222222,\"#7201a8\"],[0.3333333333333333,\"#9c179e\"],[0.4444444444444444,\"#bd3786\"],[0.5555555555555556,\"#d8576b\"],[0.6666666666666666,\"#ed7953\"],[0.7777777777777778,\"#fb9f3a\"],[0.8888888888888888,\"#fdca26\"],[1.0,\"#f0f921\"]],\"type\":\"histogram2dcontour\"}],\"mesh3d\":[{\"colorbar\":{\"outlinewidth\":0,\"ticks\":\"\"},\"type\":\"mesh3d\"}],\"parcoords\":[{\"line\":{\"colorbar\":{\"outlinewidth\":0,\"ticks\":\"\"}},\"type\":\"parcoords\"}],\"pie\":[{\"automargin\":true,\"type\":\"pie\"}],\"scatter\":[{\"marker\":{\"colorbar\":{\"outlinewidth\":0,\"ticks\":\"\"}},\"type\":\"scatter\"}],\"scatter3d\":[{\"line\":{\"colorbar\":{\"outlinewidth\":0,\"ticks\":\"\"}},\"marker\":{\"colorbar\":{\"outlinewidth\":0,\"ticks\":\"\"}},\"type\":\"scatter3d\"}],\"scattercarpet\":[{\"marker\":{\"colorbar\":{\"outlinewidth\":0,\"ticks\":\"\"}},\"type\":\"scattercarpet\"}],\"scattergeo\":[{\"marker\":{\"colorbar\":{\"outlinewidth\":0,\"ticks\":\"\"}},\"type\":\"scattergeo\"}],\"scattergl\":[{\"marker\":{\"colorbar\":{\"outlinewidth\":0,\"ticks\":\"\"}},\"type\":\"scattergl\"}],\"scattermapbox\":[{\"marker\":{\"colorbar\":{\"outlinewidth\":0,\"ticks\":\"\"}},\"type\":\"scattermapbox\"}],\"scatterpolar\":[{\"marker\":{\"colorbar\":{\"outlinewidth\":0,\"ticks\":\"\"}},\"type\":\"scatterpolar\"}],\"scatterpolargl\":[{\"marker\":{\"colorbar\":{\"outlinewidth\":0,\"ticks\":\"\"}},\"type\":\"scatterpolargl\"}],\"scatterternary\":[{\"marker\":{\"colorbar\":{\"outlinewidth\":0,\"ticks\":\"\"}},\"type\":\"scatterternary\"}],\"surface\":[{\"colorbar\":{\"outlinewidth\":0,\"ticks\":\"\"},\"colorscale\":[[0.0,\"#0d0887\"],[0.1111111111111111,\"#46039f\"],[0.2222222222222222,\"#7201a8\"],[0.3333333333333333,\"#9c179e\"],[0.4444444444444444,\"#bd3786\"],[0.5555555555555556,\"#d8576b\"],[0.6666666666666666,\"#ed7953\"],[0.7777777777777778,\"#fb9f3a\"],[0.8888888888888888,\"#fdca26\"],[1.0,\"#f0f921\"]],\"type\":\"surface\"}],\"table\":[{\"cells\":{\"fill\":{\"color\":\"#EBF0F8\"},\"line\":{\"color\":\"white\"}},\"header\":{\"fill\":{\"color\":\"#C8D4E3\"},\"line\":{\"color\":\"white\"}},\"type\":\"table\"}]},\"layout\":{\"annotationdefaults\":{\"arrowcolor\":\"#2a3f5f\",\"arrowhead\":0,\"arrowwidth\":1},\"autotypenumbers\":\"strict\",\"coloraxis\":{\"colorbar\":{\"outlinewidth\":0,\"ticks\":\"\"}},\"colorscale\":{\"diverging\":[[0,\"#8e0152\"],[0.1,\"#c51b7d\"],[0.2,\"#de77ae\"],[0.3,\"#f1b6da\"],[0.4,\"#fde0ef\"],[0.5,\"#f7f7f7\"],[0.6,\"#e6f5d0\"],[0.7,\"#b8e186\"],[0.8,\"#7fbc41\"],[0.9,\"#4d9221\"],[1,\"#276419\"]],\"sequential\":[[0.0,\"#0d0887\"],[0.1111111111111111,\"#46039f\"],[0.2222222222222222,\"#7201a8\"],[0.3333333333333333,\"#9c179e\"],[0.4444444444444444,\"#bd3786\"],[0.5555555555555556,\"#d8576b\"],[0.6666666666666666,\"#ed7953\"],[0.7777777777777778,\"#fb9f3a\"],[0.8888888888888888,\"#fdca26\"],[1.0,\"#f0f921\"]],\"sequentialminus\":[[0.0,\"#0d0887\"],[0.1111111111111111,\"#46039f\"],[0.2222222222222222,\"#7201a8\"],[0.3333333333333333,\"#9c179e\"],[0.4444444444444444,\"#bd3786\"],[0.5555555555555556,\"#d8576b\"],[0.6666666666666666,\"#ed7953\"],[0.7777777777777778,\"#fb9f3a\"],[0.8888888888888888,\"#fdca26\"],[1.0,\"#f0f921\"]]},\"colorway\":[\"#636efa\",\"#EF553B\",\"#00cc96\",\"#ab63fa\",\"#FFA15A\",\"#19d3f3\",\"#FF6692\",\"#B6E880\",\"#FF97FF\",\"#FECB52\"],\"font\":{\"color\":\"#2a3f5f\"},\"geo\":{\"bgcolor\":\"white\",\"lakecolor\":\"white\",\"landcolor\":\"#E5ECF6\",\"showlakes\":true,\"showland\":true,\"subunitcolor\":\"white\"},\"hoverlabel\":{\"align\":\"left\"},\"hovermode\":\"closest\",\"mapbox\":{\"style\":\"light\"},\"paper_bgcolor\":\"white\",\"plot_bgcolor\":\"#E5ECF6\",\"polar\":{\"angularaxis\":{\"gridcolor\":\"white\",\"linecolor\":\"white\",\"ticks\":\"\"},\"bgcolor\":\"#E5ECF6\",\"radialaxis\":{\"gridcolor\":\"white\",\"linecolor\":\"white\",\"ticks\":\"\"}},\"scene\":{\"xaxis\":{\"backgroundcolor\":\"#E5ECF6\",\"gridcolor\":\"white\",\"gridwidth\":2,\"linecolor\":\"white\",\"showbackground\":true,\"ticks\":\"\",\"zerolinecolor\":\"white\"},\"yaxis\":{\"backgroundcolor\":\"#E5ECF6\",\"gridcolor\":\"white\",\"gridwidth\":2,\"linecolor\":\"white\",\"showbackground\":true,\"ticks\":\"\",\"zerolinecolor\":\"white\"},\"zaxis\":{\"backgroundcolor\":\"#E5ECF6\",\"gridcolor\":\"white\",\"gridwidth\":2,\"linecolor\":\"white\",\"showbackground\":true,\"ticks\":\"\",\"zerolinecolor\":\"white\"}},\"shapedefaults\":{\"line\":{\"color\":\"#2a3f5f\"}},\"ternary\":{\"aaxis\":{\"gridcolor\":\"white\",\"linecolor\":\"white\",\"ticks\":\"\"},\"baxis\":{\"gridcolor\":\"white\",\"linecolor\":\"white\",\"ticks\":\"\"},\"bgcolor\":\"#E5ECF6\",\"caxis\":{\"gridcolor\":\"white\",\"linecolor\":\"white\",\"ticks\":\"\"}},\"title\":{\"x\":0.05},\"xaxis\":{\"automargin\":true,\"gridcolor\":\"white\",\"linecolor\":\"white\",\"ticks\":\"\",\"title\":{\"standoff\":15},\"zerolinecolor\":\"white\",\"zerolinewidth\":2},\"yaxis\":{\"automargin\":true,\"gridcolor\":\"white\",\"linecolor\":\"white\",\"ticks\":\"\",\"title\":{\"standoff\":15},\"zerolinecolor\":\"white\",\"zerolinewidth\":2}}},\"xaxis\":{\"anchor\":\"y\",\"domain\":[0.0,0.45]},\"yaxis\":{\"anchor\":\"x\",\"domain\":[0.0,1.0]},\"xaxis2\":{\"anchor\":\"y2\",\"domain\":[0.55,1.0]},\"yaxis2\":{\"anchor\":\"x2\",\"domain\":[0.0,1.0]},\"annotations\":[{\"font\":{\"size\":16},\"showarrow\":false,\"text\":\"Loss\",\"x\":0.225,\"xanchor\":\"center\",\"xref\":\"paper\",\"y\":1.0,\"yanchor\":\"bottom\",\"yref\":\"paper\"},{\"font\":{\"size\":16},\"showarrow\":false,\"text\":\"F1 Score\",\"x\":0.775,\"xanchor\":\"center\",\"xref\":\"paper\",\"y\":1.0,\"yanchor\":\"bottom\",\"yref\":\"paper\"}]},                        {\"responsive\": true}                    ).then(function(){\n",
              "                            \n",
              "var gd = document.getElementById('edb7c8ca-f2b8-4dcd-8b5f-7d0f735156dc');\n",
              "var x = new MutationObserver(function (mutations, observer) {{\n",
              "        var display = window.getComputedStyle(gd).display;\n",
              "        if (!display || display === 'none') {{\n",
              "            console.log([gd, 'removed!']);\n",
              "            Plotly.purge(gd);\n",
              "            observer.disconnect();\n",
              "        }}\n",
              "}});\n",
              "\n",
              "// Listen for the removal of the full notebook cells\n",
              "var notebookContainer = gd.closest('#notebook-container');\n",
              "if (notebookContainer) {{\n",
              "    x.observe(notebookContainer, {childList: true});\n",
              "}}\n",
              "\n",
              "// Listen for the clearing of the current output cell\n",
              "var outputEl = gd.closest('.output');\n",
              "if (outputEl) {{\n",
              "    x.observe(outputEl, {childList: true});\n",
              "}}\n",
              "\n",
              "                        })                };                            </script>        </div>\n",
              "</body>\n",
              "</html>"
            ]
          },
          "metadata": {}
        },
        {
          "output_type": "stream",
          "name": "stdout",
          "text": [
            "3/3 [==============================] - 0s 55ms/step\n",
            "Accuracy:  0.95\n",
            "              precision    recall  f1-score   support\n",
            "\n",
            "           0       0.86      0.95      0.90        19\n",
            "           1       0.98      0.95      0.97        61\n",
            "\n",
            "    accuracy                           0.95        80\n",
            "   macro avg       0.92      0.95      0.93        80\n",
            "weighted avg       0.95      0.95      0.95        80\n",
            "\n"
          ]
        },
        {
          "output_type": "display_data",
          "data": {
            "text/plain": [
              "<Figure size 432x288 with 2 Axes>"
            ],
            "image/png": "[encoded data removed]"
          },
          "metadata": {
            "needs_background": "light"
          }
        },
        {
          "output_type": "stream",
          "name": "stdout",
          "text": [
            "34/34 [==============================] - 2s 48ms/step\n",
            "Accuracy:  0.9707271010387157\n",
            "              precision    recall  f1-score   support\n",
            "\n",
            "           0       0.97      0.97      0.97       519\n",
            "           1       0.97      0.97      0.97       540\n",
            "\n",
            "    accuracy                           0.97      1059\n",
            "   macro avg       0.97      0.97      0.97      1059\n",
            "weighted avg       0.97      0.97      0.97      1059\n",
            "\n"
          ]
        },
        {
          "output_type": "display_data",
          "data": {
            "text/plain": [
              "<Figure size 432x288 with 2 Axes>"
            ],
            "image/png": "[encoded data removed]"
          },
          "metadata": {
            "needs_background": "light"
          }
        }
      ]
    },
    {
      "cell_type": "markdown",
      "source": [
        "**Histórico da perda e do F1 score durante o treinamento da rede CNN**\n",
        "\n",
        "![CNN_2.0_bc40fc1ae5c545cc982a2930b8b6c57c_history.png](data:image/png;base64,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)"
      ],
      "metadata": {
        "id": "NkrJNpC9HI_h"
      }
    },
    {
      "cell_type": "code",
      "source": [
        "#@title CNN com albumentation - check valid and test data with the best epoch weights (7)\n",
        "#@markdown bc40fc1ae5c545cc982a2930b8b6c57c\n",
        "\n",
        "import logging\n",
        "import os\n",
        "import shutil\n",
        "\n",
        "import mlflow\n",
        "import pandas as pd\n",
        "import tensorflow as tf\n",
        "import tensorflow_addons as tfa\n",
        "from sklearn.metrics import accuracy_score, precision_recall_fscore_support\n",
        "from tensorflow.keras import layers, models\n",
        "\n",
        "# from src.constants import (CHANNEL, IMG_HEIGHT, IMG_WIDTH,\n",
        "#                            PREFIX_PROCESSED_DATA_PATH, TMP_DIR_PATH)\n",
        "# from src.input_output_processing import (\n",
        "#     describe_results, drop_valid_albumented_images_from_train_data,\n",
        "#     get_df_train_test, get_df_train_valid,\n",
        "#     get_df_train_with_albumentations_and_noises, get_processed_input_model)\n",
        "# from src.visualization.visualize import (plot_confusion_matrix,\n",
        "#                                          plot_train_history)\n",
        "\n",
        "TAG = \"CNN_2.0\"\n",
        "\n",
        "DEST_PATH = '/content/mlruns/0/bc40fc1ae5c545cc982a2930b8b6c57c/artifacts/'\n",
        "CNN_BEST_WEIGHTS_FILEPATH = '/content/mlruns/0/bc40fc1ae5c545cc982a2930b8b6c57c/artifacts/CNN_2.0_bc40fc1ae5c545cc982a2930b8b6c57c_weights_07_0.22325654327869415_[0.9593496].h5'\n",
        "RUN_ID = 'bc40fc1ae5c545cc982a2930b8b6c57c'\n",
        "\n",
        "\n",
        "def predict(model, type_data, X_test_scaled_cnn, y_test, run_id):\n",
        "    y_score = model.predict(X_test_scaled_cnn, verbose=1)\n",
        "    df_y_true_pred_cnn = pd.DataFrame(\n",
        "        {\n",
        "            \"y_true\": y_test.to_numpy().flatten().tolist(),\n",
        "            \"y_pred\": (pd.Series(y_score.flatten().tolist()) >= 0.5).astype(\"int64\"),\n",
        "            \"y_score\": y_score.flatten().tolist(),\n",
        "        }\n",
        "    )\n",
        "\n",
        "    y_true = df_y_true_pred_cnn[\"y_true\"]\n",
        "    y_pred = df_y_true_pred_cnn[\"y_pred\"]\n",
        "\n",
        "    accuracy = accuracy_score(y_true, y_pred)\n",
        "    precision_recall_fscore_support_metrics = precision_recall_fscore_support(\n",
        "        y_true, y_pred, average=None, labels=[0, 1]\n",
        "    )\n",
        "    df_precision_recall_fscore_support_cnn = pd.DataFrame(\n",
        "        precision_recall_fscore_support_metrics,\n",
        "        columns=[0, 1],\n",
        "        index=[\"precision\", \"recall\", \"f1_score\", \"support\"],\n",
        "    ).T\n",
        "    df_precision_recall_fscore_support_cnn[\"accuracy\"] = accuracy\n",
        "    df_precision_recall_fscore_support_cnn[\"model_name\"] = \"{}_{}\".format(TAG, run_id)\n",
        "    df_precision_recall_fscore_support_cnn = (\n",
        "        df_precision_recall_fscore_support_cnn.reset_index().rename(\n",
        "            columns={\"index\": \"label\"}\n",
        "        )\n",
        "    )\n",
        "\n",
        "    prefix_filename = \"{dir_path}/{tag}_{run_id}_{type_data}\".format(\n",
        "        dir_path=TMP_DIR_PATH, tag=TAG, run_id=run_id, type_data=type_data\n",
        "    )\n",
        "    df_precision_recall_fscore_support_cnn.to_csv(\n",
        "        \"{}_metrics.csv\".format(prefix_filename), index=False\n",
        "    )\n",
        "\n",
        "    describe_results(y_true=y_true, y_pred=y_pred, labels=[0, 1])\n",
        "    plot_confusion_matrix(y_true=y_true, y_pred=y_pred, prefix_filename=prefix_filename)\n",
        "\n",
        "\n",
        "def main():\n",
        "    if os.path.exists(TMP_DIR_PATH):\n",
        "        shutil.rmtree(TMP_DIR_PATH)\n",
        "    os.makedirs(TMP_DIR_PATH)\n",
        "\n",
        "    model = tf.keras.models.load_model(CNN_BEST_WEIGHTS_FILEPATH)\n",
        "    model.summary()\n",
        "\n",
        "    df_train, df_test = get_df_train_test(\n",
        "        prefix_path=PREFIX_PROCESSED_DATA_PATH, split=False\n",
        "    )\n",
        "    df_train, df_valid = get_df_train_valid(\n",
        "        prefix_path=PREFIX_PROCESSED_DATA_PATH, df=df_train, split=False\n",
        "    )\n",
        "\n",
        "    df_train_aux = get_df_train_with_albumentations_and_noises(df_train)\n",
        "    df_train_aux, _ = drop_valid_albumented_images_from_train_data(\n",
        "        df_train_aux, df_valid\n",
        "    )\n",
        "\n",
        "    (\n",
        "        X_train_aux,\n",
        "        y_train_aux,\n",
        "        X_train_scaled_aux,\n",
        "        X_train_scaled_cnn_aux,\n",
        "    ) = get_processed_input_model(df_train_aux)\n",
        "    X_valid, y_valid, X_valid_scaled, X_valid_scaled_cnn = get_processed_input_model(\n",
        "        df_valid\n",
        "    )\n",
        "    X_test, y_test, X_test_scaled, X_test_scaled_cnn = get_processed_input_model(\n",
        "        df_train_aux\n",
        "    )\n",
        "\n",
        "    input_shape = (IMG_HEIGHT, IMG_WIDTH, CHANNEL)\n",
        "\n",
        "    run_id = RUN_ID\n",
        "    logging.info(\"Active run_id: {}\".format(run_id))\n",
        "    print(\"Active run_id: {}\".format(run_id))\n",
        "    \n",
        "    predict(model, \"valid_best\", X_valid_scaled_cnn, y_valid, run_id)\n",
        "    predict(model, \"test_best\", X_test_scaled_cnn, y_test, run_id)\n",
        "\n",
        "    \n",
        "    shutil.move(TMP_DIR_PATH, DEST_PATH)\n",
        "    \n",
        "    logging.info(\"Ending run {}\".format(TAG))\n",
        "\n",
        "\n",
        "# if __name__ == \"__main__\":\n",
        "main()\n"
      ],
      "metadata": {
        "colab": {
          "base_uri": "https://localhost:8080/",
          "height": 1000
        },
        "cellView": "form",
        "id": "LZx4CXMNMgDj",
        "outputId": "f622bef0-6ac0-4a68-aa42-cd48a66dd05f"
      },
      "execution_count": null,
      "outputs": [
        {
          "output_type": "stream",
          "name": "stdout",
          "text": [
            "Model: \"sequential_1\"\n",
            "_________________________________________________________________\n",
            " Layer (type)                Output Shape              Param #   \n",
            "=================================================================\n",
            " conv2d_1 (Conv2D)           (None, 96, 96, 512)       38912     \n",
            "                                                                 \n",
            " max_pooling2d_1 (MaxPooling  (None, 48, 48, 512)      0         \n",
            " 2D)                                                             \n",
            "                                                                 \n",
            " dropout_1 (Dropout)         (None, 48, 48, 512)       0         \n",
            "                                                                 \n",
            " conv2d_2 (Conv2D)           (None, 44, 44, 256)       3277056   \n",
            "                                                                 \n",
            " max_pooling2d_2 (MaxPooling  (None, 22, 22, 256)      0         \n",
            " 2D)                                                             \n",
            "                                                                 \n",
            " dropout_2 (Dropout)         (None, 22, 22, 256)       0         \n",
            "                                                                 \n",
            " conv2d_3 (Conv2D)           (None, 18, 18, 128)       819328    \n",
            "                                                                 \n",
            " max_pooling2d_3 (MaxPooling  (None, 9, 9, 128)        0         \n",
            " 2D)                                                             \n",
            "                                                                 \n",
            " dropout_3 (Dropout)         (None, 9, 9, 128)         0         \n",
            "                                                                 \n",
            " flatten_1 (Flatten)         (None, 10368)             0         \n",
            "                                                                 \n",
            " dense_1 (Dense)             (None, 64)                663616    \n",
            "                                                                 \n",
            " dense_2 (Dense)             (None, 1)                 65        \n",
            "                                                                 \n",
            "=================================================================\n",
            "Total params: 4,798,977\n",
            "Trainable params: 4,798,977\n",
            "Non-trainable params: 0\n",
            "_________________________________________________________________\n",
            "Active run_id: bc40fc1ae5c545cc982a2930b8b6c57c\n",
            "3/3 [==============================] - 0s 54ms/step\n",
            "Accuracy:  0.9375\n",
            "              precision    recall  f1-score   support\n",
            "\n",
            "           0       0.89      0.84      0.86        19\n",
            "           1       0.95      0.97      0.96        61\n",
            "\n",
            "    accuracy                           0.94        80\n",
            "   macro avg       0.92      0.90      0.91        80\n",
            "weighted avg       0.94      0.94      0.94        80\n",
            "\n"
          ]
        },
        {
          "output_type": "display_data",
          "data": {
            "text/plain": [
              "<Figure size 432x288 with 2 Axes>"
            ],
            "image/png": "[encoded data removed]"
          },
          "metadata": {
            "needs_background": "light"
          }
        },
        {
          "output_type": "stream",
          "name": "stdout",
          "text": [
            "34/34 [==============================] - 2s 45ms/step\n",
            "Accuracy:  0.9244570349386213\n",
            "              precision    recall  f1-score   support\n",
            "\n",
            "           0       0.94      0.90      0.92       519\n",
            "           1       0.91      0.94      0.93       540\n",
            "\n",
            "    accuracy                           0.92      1059\n",
            "   macro avg       0.93      0.92      0.92      1059\n",
            "weighted avg       0.93      0.92      0.92      1059\n",
            "\n"
          ]
        },
        {
          "output_type": "display_data",
          "data": {
            "text/plain": [
              "<Figure size 432x288 with 2 Axes>"
            ],
            "image/png": "[encoded data removed]"
          },
          "metadata": {
            "needs_background": "light"
          }
        }
      ]
    },
    {
      "cell_type": "markdown",
      "source": [
        "# Models evaluation"
      ],
      "metadata": {
        "id": "cH5rfR0jOGra"
      }
    },
    {
      "cell_type": "code",
      "source": [
        "#@title get_df_metrics\n",
        "def get_df_metrics(metrics_path):\n",
        "  metrics = []\n",
        "  for file_path in metrics_path:\n",
        "    df = pd.read_csv(file_path)\n",
        "    metrics.append(df)\n",
        "    \n",
        "  df_metrics = pd.concat(\n",
        "    metrics, ignore_index=True\n",
        "  )\n",
        "  df_metrics['full_model_name'] = df_metrics['model_name']\n",
        "  df_metrics['model_name'] = df_metrics['model_name'].str.split('_').str[0]\n",
        "\n",
        "  return df_metrics"
      ],
      "metadata": {
        "id": "OMlQ1U4QXPAf",
        "cellView": "form"
      },
      "execution_count": null,
      "outputs": []
    },
    {
      "cell_type": "code",
      "source": [
        "#@title Conjunto de treinamento\n",
        "\n",
        "valid_metrics = [\n",
        "  '/content/mlruns/0/4e68bf17be194f6c97c602418326cba4/artifacts/LR_4e68bf17be194f6c97c602418326cba4_valid_metrics.csv',\n",
        "  '/content/mlruns/0/2b8e7ef28381438d84df5226f588d763/artifacts/SVM_2b8e7ef28381438d84df5226f588d763_valid_metrics.csv',\n",
        "  '/content/mlruns/0/bc40fc1ae5c545cc982a2930b8b6c57c/artifacts/CNN_2.0_bc40fc1ae5c545cc982a2930b8b6c57c_valid_best_metrics.csv',\n",
        "]\n",
        "\n",
        "df_valid_metrics = get_df_metrics(valid_metrics)\n",
        "display(df_valid_metrics)\n",
        "\n",
        "compare_evaluation_metrics(df=df_valid_metrics, dataset='Validação')"
      ],
      "metadata": {
        "colab": {
          "base_uri": "https://localhost:8080/",
          "height": 762
        },
        "cellView": "form",
        "id": "3PycwkUsWD_9",
        "outputId": "c1e2497f-a0a6-4682-e98f-6ca747492ede"
      },
      "execution_count": null,
      "outputs": [
        {
          "output_type": "display_data",
          "data": {
            "text/plain": [
              "   label  precision    recall  f1_score  support  accuracy model_name  \\\n",
              "0      0   0.782609  0.947368  0.857143     19.0    0.9250         LR   \n",
              "1      1   0.982456  0.918033  0.949153     61.0    0.9250         LR   \n",
              "2      0   0.583333  0.736842  0.651163     19.0    0.8125        SVM   \n",
              "3      1   0.910714  0.836066  0.871795     61.0    0.8125        SVM   \n",
              "4      0   0.888889  0.842105  0.864865     19.0    0.9375        CNN   \n",
              "5      1   0.951613  0.967213  0.959350     61.0    0.9375        CNN   \n",
              "\n",
              "                            full_model_name  \n",
              "0       LR_4e68bf17be194f6c97c602418326cba4  \n",
              "1       LR_4e68bf17be194f6c97c602418326cba4  \n",
              "2      SVM_2b8e7ef28381438d84df5226f588d763  \n",
              "3      SVM_2b8e7ef28381438d84df5226f588d763  \n",
              "4  CNN_2.0_bc40fc1ae5c545cc982a2930b8b6c57c  \n",
              "5  CNN_2.0_bc40fc1ae5c545cc982a2930b8b6c57c  "
            ],
            "text/html": [
              "\n",
              "  <div id=\"df-0f00c6e8-45e5-4bba-8ea6-ac2fc5de7b80\">\n",
              "    <div class=\"colab-df-container\">\n",
              "      <div>\n",
              "<style scoped>\n",
              "    .dataframe tbody tr th:only-of-type {\n",
              "        vertical-align: middle;\n",
              "    }\n",
              "\n",
              "    .dataframe tbody tr th {\n",
              "        vertical-align: top;\n",
              "    }\n",
              "\n",
              "    .dataframe thead th {\n",
              "        text-align: right;\n",
              "    }\n",
              "</style>\n",
              "<table border=\"1\" class=\"dataframe\">\n",
              "  <thead>\n",
              "    <tr style=\"text-align: right;\">\n",
              "      <th></th>\n",
              "      <th>label</th>\n",
              "      <th>precision</th>\n",
              "      <th>recall</th>\n",
              "      <th>f1_score</th>\n",
              "      <th>support</th>\n",
              "      <th>accuracy</th>\n",
              "      <th>model_name</th>\n",
              "      <th>full_model_name</th>\n",
              "    </tr>\n",
              "  </thead>\n",
              "  <tbody>\n",
              "    <tr>\n",
              "      <th>0</th>\n",
              "      <td>0</td>\n",
              "      <td>0.782609</td>\n",
              "      <td>0.947368</td>\n",
              "      <td>0.857143</td>\n",
              "      <td>19.0</td>\n",
              "      <td>0.9250</td>\n",
              "      <td>LR</td>\n",
              "      <td>LR_4e68bf17be194f6c97c602418326cba4</td>\n",
              "    </tr>\n",
              "    <tr>\n",
              "      <th>1</th>\n",
              "      <td>1</td>\n",
              "      <td>0.982456</td>\n",
              "      <td>0.918033</td>\n",
              "      <td>0.949153</td>\n",
              "      <td>61.0</td>\n",
              "      <td>0.9250</td>\n",
              "      <td>LR</td>\n",
              "      <td>LR_4e68bf17be194f6c97c602418326cba4</td>\n",
              "    </tr>\n",
              "    <tr>\n",
              "      <th>2</th>\n",
              "      <td>0</td>\n",
              "      <td>0.583333</td>\n",
              "      <td>0.736842</td>\n",
              "      <td>0.651163</td>\n",
              "      <td>19.0</td>\n",
              "      <td>0.8125</td>\n",
              "      <td>SVM</td>\n",
              "      <td>SVM_2b8e7ef28381438d84df5226f588d763</td>\n",
              "    </tr>\n",
              "    <tr>\n",
              "      <th>3</th>\n",
              "      <td>1</td>\n",
              "      <td>0.910714</td>\n",
              "      <td>0.836066</td>\n",
              "      <td>0.871795</td>\n",
              "      <td>61.0</td>\n",
              "      <td>0.8125</td>\n",
              "      <td>SVM</td>\n",
              "      <td>SVM_2b8e7ef28381438d84df5226f588d763</td>\n",
              "    </tr>\n",
              "    <tr>\n",
              "      <th>4</th>\n",
              "      <td>0</td>\n",
              "      <td>0.888889</td>\n",
              "      <td>0.842105</td>\n",
              "      <td>0.864865</td>\n",
              "      <td>19.0</td>\n",
              "      <td>0.9375</td>\n",
              "      <td>CNN</td>\n",
              "      <td>CNN_2.0_bc40fc1ae5c545cc982a2930b8b6c57c</td>\n",
              "    </tr>\n",
              "    <tr>\n",
              "      <th>5</th>\n",
              "      <td>1</td>\n",
              "      <td>0.951613</td>\n",
              "      <td>0.967213</td>\n",
              "      <td>0.959350</td>\n",
              "      <td>61.0</td>\n",
              "      <td>0.9375</td>\n",
              "      <td>CNN</td>\n",
              "      <td>CNN_2.0_bc40fc1ae5c545cc982a2930b8b6c57c</td>\n",
              "    </tr>\n",
              "  </tbody>\n",
              "</table>\n",
              "</div>\n",
              "      <button class=\"colab-df-convert\" onclick=\"convertToInteractive('df-0f00c6e8-45e5-4bba-8ea6-ac2fc5de7b80')\"\n",
              "              title=\"Convert this dataframe to an interactive table.\"\n",
              "              style=\"display:none;\">\n",
              "        \n",
              "  <svg xmlns=\"http://www.w3.org/2000/svg\" height=\"24px\"viewBox=\"0 0 24 24\"\n",
              "       width=\"24px\">\n",
              "    <path d=\"M0 0h24v24H0V0z\" fill=\"none\"/>\n",
              "    <path d=\"M18.56 5.44l.94 2.06.94-2.06 2.06-.94-2.06-.94-.94-2.06-.94 2.06-2.06.94zm-11 1L8.5 8.5l.94-2.06 2.06-.94-2.06-.94L8.5 2.5l-.94 2.06-2.06.94zm10 10l.94 2.06.94-2.06 2.06-.94-2.06-.94-.94-2.06-.94 2.06-2.06.94z\"/><path d=\"M17.41 7.96l-1.37-1.37c-.4-.4-.92-.59-1.43-.59-.52 0-1.04.2-1.43.59L10.3 9.45l-7.72 7.72c-.78.78-.78 2.05 0 2.83L4 21.41c.39.39.9.59 1.41.59.51 0 1.02-.2 1.41-.59l7.78-7.78 2.81-2.81c.8-.78.8-2.07 0-2.86zM5.41 20L4 18.59l7.72-7.72 1.47 1.35L5.41 20z\"/>\n",
              "  </svg>\n",
              "      </button>\n",
              "      \n",
              "  <style>\n",
              "    .colab-df-container {\n",
              "      display:flex;\n",
              "      flex-wrap:wrap;\n",
              "      gap: 12px;\n",
              "    }\n",
              "\n",
              "    .colab-df-convert {\n",
              "      background-color: #E8F0FE;\n",
              "      border: none;\n",
              "      border-radius: 50%;\n",
              "      cursor: pointer;\n",
              "      display: none;\n",
              "      fill: #1967D2;\n",
              "      height: 32px;\n",
              "      padding: 0 0 0 0;\n",
              "      width: 32px;\n",
              "    }\n",
              "\n",
              "    .colab-df-convert:hover {\n",
              "      background-color: #E2EBFA;\n",
              "      box-shadow: 0px 1px 2px rgba(60, 64, 67, 0.3), 0px 1px 3px 1px rgba(60, 64, 67, 0.15);\n",
              "      fill: #174EA6;\n",
              "    }\n",
              "\n",
              "    [theme=dark] .colab-df-convert {\n",
              "      background-color: #3B4455;\n",
              "      fill: #D2E3FC;\n",
              "    }\n",
              "\n",
              "    [theme=dark] .colab-df-convert:hover {\n",
              "      background-color: #434B5C;\n",
              "      box-shadow: 0px 1px 3px 1px rgba(0, 0, 0, 0.15);\n",
              "      filter: drop-shadow(0px 1px 2px rgba(0, 0, 0, 0.3));\n",
              "      fill: #FFFFFF;\n",
              "    }\n",
              "  </style>\n",
              "\n",
              "      <script>\n",
              "        const buttonEl =\n",
              "          document.querySelector('#df-0f00c6e8-45e5-4bba-8ea6-ac2fc5de7b80 button.colab-df-convert');\n",
              "        buttonEl.style.display =\n",
              "          google.colab.kernel.accessAllowed ? 'block' : 'none';\n",
              "\n",
              "        async function convertToInteractive(key) {\n",
              "          const element = document.querySelector('#df-0f00c6e8-45e5-4bba-8ea6-ac2fc5de7b80');\n",
              "          const dataTable =\n",
              "            await google.colab.kernel.invokeFunction('convertToInteractive',\n",
              "                                                     [key], {});\n",
              "          if (!dataTable) return;\n",
              "\n",
              "          const docLinkHtml = 'Like what you see? Visit the ' +\n",
              "            '<a target=\"_blank\" href=https://colab.research.google.com/notebooks/data_table.ipynb>data table notebook</a>'\n",
              "            + ' to learn more about interactive tables.';\n",
              "          element.innerHTML = '';\n",
              "          dataTable['output_type'] = 'display_data';\n",
              "          await google.colab.output.renderOutput(dataTable, element);\n",
              "          const docLink = document.createElement('div');\n",
              "          docLink.innerHTML = docLinkHtml;\n",
              "          element.appendChild(docLink);\n",
              "        }\n",
              "      </script>\n",
              "    </div>\n",
              "  </div>\n",
              "  "
            ]
          },
          "metadata": {}
        },
        {
          "output_type": "display_data",
          "data": {
            "text/html": [
              "<html>\n",
              "<head><meta charset=\"utf-8\" /></head>\n",
              "<body>\n",
              "    <div>            <script src=\"https://cdnjs.cloudflare.com/ajax/libs/mathjax/2.7.5/MathJax.js?config=TeX-AMS-MML_SVG\"></script><script type=\"text/javascript\">if (window.MathJax) {MathJax.Hub.Config({SVG: {font: \"STIX-Web\"}});}</script>                <script type=\"text/javascript\">window.PlotlyConfig = {MathJaxConfig: 'local'};</script>\n",
              "        <script src=\"https://cdn.plot.ly/plotly-2.8.3.min.js\"></script>                <div id=\"9fe68013-4f7b-4e4d-83bf-e2996a2ec4d0\" class=\"plotly-graph-div\" style=\"height:525px; width:100%;\"></div>            <script type=\"text/javascript\">                                    window.PLOTLYENV=window.PLOTLYENV || {};                                    if (document.getElementById(\"9fe68013-4f7b-4e4d-83bf-e2996a2ec4d0\")) {                    Plotly.newPlot(                        \"9fe68013-4f7b-4e4d-83bf-e2996a2ec4d0\",                        [{\"marker\":{\"color\":[\"gray\",\"gray\",\"gray\"]},\"showlegend\":false,\"text\":[92.5,81.25,93.75],\"textposition\":\"auto\",\"x\":[\"LR\",\"SVM\",\"CNN\"],\"y\":[92.5,81.25,93.75],\"type\":\"bar\",\"xaxis\":\"x\",\"yaxis\":\"y\"},{\"marker\":{\"color\":[\"blue\",\"blue\",\"blue\"]},\"name\":\"Sem fogo\",\"showlegend\":true,\"text\":[78.26,58.33,88.89],\"textposition\":\"auto\",\"x\":[\"LR\",\"SVM\",\"CNN\"],\"y\":[78.26,58.33,88.89],\"type\":\"bar\",\"xaxis\":\"x2\",\"yaxis\":\"y2\"},{\"marker\":{\"color\":[\"red\",\"red\",\"red\"]},\"name\":\"Com fogo\",\"showlegend\":true,\"text\":[98.25,91.07,95.16],\"textposition\":\"auto\",\"x\":[\"LR\",\"SVM\",\"CNN\"],\"y\":[98.25,91.07,95.16],\"type\":\"bar\",\"xaxis\":\"x2\",\"yaxis\":\"y2\"},{\"marker\":{\"color\":[\"blue\",\"blue\",\"blue\"]},\"name\":\"Sem fogo\",\"showlegend\":false,\"text\":[94.74,73.68,84.21],\"textposition\":\"auto\",\"x\":[\"LR\",\"SVM\",\"CNN\"],\"y\":[94.74,73.68,84.21],\"type\":\"bar\",\"xaxis\":\"x3\",\"yaxis\":\"y3\"},{\"marker\":{\"color\":[\"red\",\"red\",\"red\"]},\"name\":\"Com fogo\",\"showlegend\":false,\"text\":[91.8,83.61,96.72],\"textposition\":\"auto\",\"x\":[\"LR\",\"SVM\",\"CNN\"],\"y\":[91.8,83.61,96.72],\"type\":\"bar\",\"xaxis\":\"x3\",\"yaxis\":\"y3\"},{\"marker\":{\"color\":[\"blue\",\"blue\",\"blue\"]},\"name\":\"Sem fogo\",\"showlegend\":false,\"text\":[85.71,65.12,86.49],\"textposition\":\"auto\",\"x\":[\"LR\",\"SVM\",\"CNN\"],\"y\":[85.71,65.12,86.49],\"type\":\"bar\",\"xaxis\":\"x4\",\"yaxis\":\"y4\"},{\"marker\":{\"color\":[\"red\",\"red\",\"red\"]},\"name\":\"Com fogo\",\"showlegend\":false,\"text\":[94.92,87.18,95.93],\"textposition\":\"auto\",\"x\":[\"LR\",\"SVM\",\"CNN\"],\"y\":[94.92,87.18,95.93],\"type\":\"bar\",\"xaxis\":\"x4\",\"yaxis\":\"y4\"}],                        {\"template\":{\"data\":{\"bar\":[{\"error_x\":{\"color\":\"#2a3f5f\"},\"error_y\":{\"color\":\"#2a3f5f\"},\"marker\":{\"line\":{\"color\":\"#E5ECF6\",\"width\":0.5},\"pattern\":{\"fillmode\":\"overlay\",\"size\":10,\"solidity\":0.2}},\"type\":\"bar\"}],\"barpolar\":[{\"marker\":{\"line\":{\"color\":\"#E5ECF6\",\"width\":0.5},\"pattern\":{\"fillmode\":\"overlay\",\"size\":10,\"solidity\":0.2}},\"type\":\"barpolar\"}],\"carpet\":[{\"aaxis\":{\"endlinecolor\":\"#2a3f5f\",\"gridcolor\":\"white\",\"linecolor\":\"white\",\"minorgridcolor\":\"white\",\"startlinecolor\":\"#2a3f5f\"},\"baxis\":{\"endlinecolor\":\"#2a3f5f\",\"gridcolor\":\"white\",\"linecolor\":\"white\",\"minorgridcolor\":\"white\",\"startlinecolor\":\"#2a3f5f\"},\"type\":\"carpet\"}],\"choropleth\":[{\"colorbar\":{\"outlinewidth\":0,\"ticks\":\"\"},\"type\":\"choropleth\"}],\"contour\":[{\"colorbar\":{\"outlinewidth\":0,\"ticks\":\"\"},\"colorscale\":[[0.0,\"#0d0887\"],[0.1111111111111111,\"#46039f\"],[0.2222222222222222,\"#7201a8\"],[0.3333333333333333,\"#9c179e\"],[0.4444444444444444,\"#bd3786\"],[0.5555555555555556,\"#d8576b\"],[0.6666666666666666,\"#ed7953\"],[0.7777777777777778,\"#fb9f3a\"],[0.8888888888888888,\"#fdca26\"],[1.0,\"#f0f921\"]],\"type\":\"contour\"}],\"contourcarpet\":[{\"colorbar\":{\"outlinewidth\":0,\"ticks\":\"\"},\"type\":\"contourcarpet\"}],\"heatmap\":[{\"colorbar\":{\"outlinewidth\":0,\"ticks\":\"\"},\"colorscale\":[[0.0,\"#0d0887\"],[0.1111111111111111,\"#46039f\"],[0.2222222222222222,\"#7201a8\"],[0.3333333333333333,\"#9c179e\"],[0.4444444444444444,\"#bd3786\"],[0.5555555555555556,\"#d8576b\"],[0.6666666666666666,\"#ed7953\"],[0.7777777777777778,\"#fb9f3a\"],[0.8888888888888888,\"#fdca26\"],[1.0,\"#f0f921\"]],\"type\":\"heatmap\"}],\"heatmapgl\":[{\"colorbar\":{\"outlinewidth\":0,\"ticks\":\"\"},\"colorscale\":[[0.0,\"#0d0887\"],[0.1111111111111111,\"#46039f\"],[0.2222222222222222,\"#7201a8\"],[0.3333333333333333,\"#9c179e\"],[0.4444444444444444,\"#bd3786\"],[0.5555555555555556,\"#d8576b\"],[0.6666666666666666,\"#ed7953\"],[0.7777777777777778,\"#fb9f3a\"],[0.8888888888888888,\"#fdca26\"],[1.0,\"#f0f921\"]],\"type\":\"heatmapgl\"}],\"histogram\":[{\"marker\":{\"pattern\":{\"fillmode\":\"overlay\",\"size\":10,\"solidity\":0.2}},\"type\":\"histogram\"}],\"histogram2d\":[{\"colorbar\":{\"outlinewidth\":0,\"ticks\":\"\"},\"colorscale\":[[0.0,\"#0d0887\"],[0.1111111111111111,\"#46039f\"],[0.2222222222222222,\"#7201a8\"],[0.3333333333333333,\"#9c179e\"],[0.4444444444444444,\"#bd3786\"],[0.5555555555555556,\"#d8576b\"],[0.6666666666666666,\"#ed7953\"],[0.7777777777777778,\"#fb9f3a\"],[0.8888888888888888,\"#fdca26\"],[1.0,\"#f0f921\"]],\"type\":\"histogram2d\"}],\"histogram2dcontour\":[{\"colorbar\":{\"outlinewidth\":0,\"ticks\":\"\"},\"colorscale\":[[0.0,\"#0d0887\"],[0.1111111111111111,\"#46039f\"],[0.2222222222222222,\"#7201a8\"],[0.3333333333333333,\"#9c179e\"],[0.4444444444444444,\"#bd3786\"],[0.5555555555555556,\"#d8576b\"],[0.6666666666666666,\"#ed7953\"],[0.7777777777777778,\"#fb9f3a\"],[0.8888888888888888,\"#fdca26\"],[1.0,\"#f0f921\"]],\"type\":\"histogram2dcontour\"}],\"mesh3d\":[{\"colorbar\":{\"outlinewidth\":0,\"ticks\":\"\"},\"type\":\"mesh3d\"}],\"parcoords\":[{\"line\":{\"colorbar\":{\"outlinewidth\":0,\"ticks\":\"\"}},\"type\":\"parcoords\"}],\"pie\":[{\"automargin\":true,\"type\":\"pie\"}],\"scatter\":[{\"marker\":{\"colorbar\":{\"outlinewidth\":0,\"ticks\":\"\"}},\"type\":\"scatter\"}],\"scatter3d\":[{\"line\":{\"colorbar\":{\"outlinewidth\":0,\"ticks\":\"\"}},\"marker\":{\"colorbar\":{\"outlinewidth\":0,\"ticks\":\"\"}},\"type\":\"scatter3d\"}],\"scattercarpet\":[{\"marker\":{\"colorbar\":{\"outlinewidth\":0,\"ticks\":\"\"}},\"type\":\"scattercarpet\"}],\"scattergeo\":[{\"marker\":{\"colorbar\":{\"outlinewidth\":0,\"ticks\":\"\"}},\"type\":\"scattergeo\"}],\"scattergl\":[{\"marker\":{\"colorbar\":{\"outlinewidth\":0,\"ticks\":\"\"}},\"type\":\"scattergl\"}],\"scattermapbox\":[{\"marker\":{\"colorbar\":{\"outlinewidth\":0,\"ticks\":\"\"}},\"type\":\"scattermapbox\"}],\"scatterpolar\":[{\"marker\":{\"colorbar\":{\"outlinewidth\":0,\"ticks\":\"\"}},\"type\":\"scatterpolar\"}],\"scatterpolargl\":[{\"marker\":{\"colorbar\":{\"outlinewidth\":0,\"ticks\":\"\"}},\"type\":\"scatterpolargl\"}],\"scatterternary\":[{\"marker\":{\"colorbar\":{\"outlinewidth\":0,\"ticks\":\"\"}},\"type\":\"scatterternary\"}],\"surface\":[{\"colorbar\":{\"outlinewidth\":0,\"ticks\":\"\"},\"colorscale\":[[0.0,\"#0d0887\"],[0.1111111111111111,\"#46039f\"],[0.2222222222222222,\"#7201a8\"],[0.3333333333333333,\"#9c179e\"],[0.4444444444444444,\"#bd3786\"],[0.5555555555555556,\"#d8576b\"],[0.6666666666666666,\"#ed7953\"],[0.7777777777777778,\"#fb9f3a\"],[0.8888888888888888,\"#fdca26\"],[1.0,\"#f0f921\"]],\"type\":\"surface\"}],\"table\":[{\"cells\":{\"fill\":{\"color\":\"#EBF0F8\"},\"line\":{\"color\":\"white\"}},\"header\":{\"fill\":{\"color\":\"#C8D4E3\"},\"line\":{\"color\":\"white\"}},\"type\":\"table\"}]},\"layout\":{\"annotationdefaults\":{\"arrowcolor\":\"#2a3f5f\",\"arrowhead\":0,\"arrowwidth\":1},\"autotypenumbers\":\"strict\",\"coloraxis\":{\"colorbar\":{\"outlinewidth\":0,\"ticks\":\"\"}},\"colorscale\":{\"diverging\":[[0,\"#8e0152\"],[0.1,\"#c51b7d\"],[0.2,\"#de77ae\"],[0.3,\"#f1b6da\"],[0.4,\"#fde0ef\"],[0.5,\"#f7f7f7\"],[0.6,\"#e6f5d0\"],[0.7,\"#b8e186\"],[0.8,\"#7fbc41\"],[0.9,\"#4d9221\"],[1,\"#276419\"]],\"sequential\":[[0.0,\"#0d0887\"],[0.1111111111111111,\"#46039f\"],[0.2222222222222222,\"#7201a8\"],[0.3333333333333333,\"#9c179e\"],[0.4444444444444444,\"#bd3786\"],[0.5555555555555556,\"#d8576b\"],[0.6666666666666666,\"#ed7953\"],[0.7777777777777778,\"#fb9f3a\"],[0.8888888888888888,\"#fdca26\"],[1.0,\"#f0f921\"]],\"sequentialminus\":[[0.0,\"#0d0887\"],[0.1111111111111111,\"#46039f\"],[0.2222222222222222,\"#7201a8\"],[0.3333333333333333,\"#9c179e\"],[0.4444444444444444,\"#bd3786\"],[0.5555555555555556,\"#d8576b\"],[0.6666666666666666,\"#ed7953\"],[0.7777777777777778,\"#fb9f3a\"],[0.8888888888888888,\"#fdca26\"],[1.0,\"#f0f921\"]]},\"colorway\":[\"#636efa\",\"#EF553B\",\"#00cc96\",\"#ab63fa\",\"#FFA15A\",\"#19d3f3\",\"#FF6692\",\"#B6E880\",\"#FF97FF\",\"#FECB52\"],\"font\":{\"color\":\"#2a3f5f\"},\"geo\":{\"bgcolor\":\"white\",\"lakecolor\":\"white\",\"landcolor\":\"#E5ECF6\",\"showlakes\":true,\"showland\":true,\"subunitcolor\":\"white\"},\"hoverlabel\":{\"align\":\"left\"},\"hovermode\":\"closest\",\"mapbox\":{\"style\":\"light\"},\"paper_bgcolor\":\"white\",\"plot_bgcolor\":\"#E5ECF6\",\"polar\":{\"angularaxis\":{\"gridcolor\":\"white\",\"linecolor\":\"white\",\"ticks\":\"\"},\"bgcolor\":\"#E5ECF6\",\"radialaxis\":{\"gridcolor\":\"white\",\"linecolor\":\"white\",\"ticks\":\"\"}},\"scene\":{\"xaxis\":{\"backgroundcolor\":\"#E5ECF6\",\"gridcolor\":\"white\",\"gridwidth\":2,\"linecolor\":\"white\",\"showbackground\":true,\"ticks\":\"\",\"zerolinecolor\":\"white\"},\"yaxis\":{\"backgroundcolor\":\"#E5ECF6\",\"gridcolor\":\"white\",\"gridwidth\":2,\"linecolor\":\"white\",\"showbackground\":true,\"ticks\":\"\",\"zerolinecolor\":\"white\"},\"zaxis\":{\"backgroundcolor\":\"#E5ECF6\",\"gridcolor\":\"white\",\"gridwidth\":2,\"linecolor\":\"white\",\"showbackground\":true,\"ticks\":\"\",\"zerolinecolor\":\"white\"}},\"shapedefaults\":{\"line\":{\"color\":\"#2a3f5f\"}},\"ternary\":{\"aaxis\":{\"gridcolor\":\"white\",\"linecolor\":\"white\",\"ticks\":\"\"},\"baxis\":{\"gridcolor\":\"white\",\"linecolor\":\"white\",\"ticks\":\"\"},\"bgcolor\":\"#E5ECF6\",\"caxis\":{\"gridcolor\":\"white\",\"linecolor\":\"white\",\"ticks\":\"\"}},\"title\":{\"x\":0.05},\"xaxis\":{\"automargin\":true,\"gridcolor\":\"white\",\"linecolor\":\"white\",\"ticks\":\"\",\"title\":{\"standoff\":15},\"zerolinecolor\":\"white\",\"zerolinewidth\":2},\"yaxis\":{\"automargin\":true,\"gridcolor\":\"white\",\"linecolor\":\"white\",\"ticks\":\"\",\"title\":{\"standoff\":15},\"zerolinecolor\":\"white\",\"zerolinewidth\":2}}},\"xaxis\":{\"anchor\":\"y\",\"domain\":[0.0,0.45]},\"yaxis\":{\"anchor\":\"x\",\"domain\":[0.625,1.0]},\"xaxis2\":{\"anchor\":\"y2\",\"domain\":[0.55,1.0]},\"yaxis2\":{\"anchor\":\"x2\",\"domain\":[0.625,1.0]},\"xaxis3\":{\"anchor\":\"y3\",\"domain\":[0.0,0.45]},\"yaxis3\":{\"anchor\":\"x3\",\"domain\":[0.0,0.375]},\"xaxis4\":{\"anchor\":\"y4\",\"domain\":[0.55,1.0]},\"yaxis4\":{\"anchor\":\"x4\",\"domain\":[0.0,0.375]},\"annotations\":[{\"font\":{\"size\":16},\"showarrow\":false,\"text\":\"Accuracy\",\"x\":0.225,\"xanchor\":\"center\",\"xref\":\"paper\",\"y\":1.0,\"yanchor\":\"bottom\",\"yref\":\"paper\"},{\"font\":{\"size\":16},\"showarrow\":false,\"text\":\"Precision\",\"x\":0.775,\"xanchor\":\"center\",\"xref\":\"paper\",\"y\":1.0,\"yanchor\":\"bottom\",\"yref\":\"paper\"},{\"font\":{\"size\":16},\"showarrow\":false,\"text\":\"Recall\",\"x\":0.225,\"xanchor\":\"center\",\"xref\":\"paper\",\"y\":0.375,\"yanchor\":\"bottom\",\"yref\":\"paper\"},{\"font\":{\"size\":16},\"showarrow\":false,\"text\":\"F1 Score\",\"x\":0.775,\"xanchor\":\"center\",\"xref\":\"paper\",\"y\":0.375,\"yanchor\":\"bottom\",\"yref\":\"paper\"}],\"title\":{\"text\":\"[Valida\\u00e7\\u00e3o] - M\\u00e9tricas de avalia\\u00e7\\u00e3o dos modelos\"}},                        {\"responsive\": true}                    ).then(function(){\n",
              "                            \n",
              "var gd = document.getElementById('9fe68013-4f7b-4e4d-83bf-e2996a2ec4d0');\n",
              "var x = new MutationObserver(function (mutations, observer) {{\n",
              "        var display = window.getComputedStyle(gd).display;\n",
              "        if (!display || display === 'none') {{\n",
              "            console.log([gd, 'removed!']);\n",
              "            Plotly.purge(gd);\n",
              "            observer.disconnect();\n",
              "        }}\n",
              "}});\n",
              "\n",
              "// Listen for the removal of the full notebook cells\n",
              "var notebookContainer = gd.closest('#notebook-container');\n",
              "if (notebookContainer) {{\n",
              "    x.observe(notebookContainer, {childList: true});\n",
              "}}\n",
              "\n",
              "// Listen for the clearing of the current output cell\n",
              "var outputEl = gd.closest('.output');\n",
              "if (outputEl) {{\n",
              "    x.observe(outputEl, {childList: true});\n",
              "}}\n",
              "\n",
              "                        })                };                            </script>        </div>\n",
              "</body>\n",
              "</html>"
            ]
          },
          "metadata": {}
        }
      ]
    },
    {
      "cell_type": "markdown",
      "source": [
        "![valid_metrics.png](data:image/png;base64,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)"
      ],
      "metadata": {
        "id": "jB1y3Nv7A9RL"
      }
    },
    {
      "cell_type": "code",
      "source": [
        "#@title Conjunto de teste\n",
        "test_metrics = [\n",
        "  '/content/mlruns/0/4e68bf17be194f6c97c602418326cba4/artifacts/LR_4e68bf17be194f6c97c602418326cba4_test_metrics.csv',\n",
        "  '/content/mlruns/0/2b8e7ef28381438d84df5226f588d763/artifacts/SVM_2b8e7ef28381438d84df5226f588d763_test_metrics.csv',\n",
        "  '/content/mlruns/0/bc40fc1ae5c545cc982a2930b8b6c57c/artifacts/CNN_2.0_bc40fc1ae5c545cc982a2930b8b6c57c_test_best_metrics.csv',\n",
        "]\n",
        "\n",
        "df_test_metrics = get_df_metrics(test_metrics)\n",
        "display(df_test_metrics)\n",
        "\n",
        "compare_evaluation_metrics(df=df_test_metrics, dataset='Teste')"
      ],
      "metadata": {
        "colab": {
          "base_uri": "https://localhost:8080/",
          "height": 762
        },
        "cellView": "form",
        "id": "jvgp_pS6OGDn",
        "outputId": "f9facf96-6f6b-4b82-ea8f-f6b7466e9be2"
      },
      "execution_count": null,
      "outputs": [
        {
          "output_type": "display_data",
          "data": {
            "text/plain": [
              "   label  precision    recall  f1_score  support  accuracy model_name  \\\n",
              "0      0   1.000000  1.000000  1.000000    519.0  1.000000         LR   \n",
              "1      1   1.000000  1.000000  1.000000    540.0  1.000000         LR   \n",
              "2      0   0.957565  1.000000  0.978322    519.0  0.978281        SVM   \n",
              "3      1   1.000000  0.957407  0.978240    540.0  0.978281        SVM   \n",
              "4      0   0.939880  0.903661  0.921415    519.0  0.924457        CNN   \n",
              "5      1   0.910714  0.944444  0.927273    540.0  0.924457        CNN   \n",
              "\n",
              "                            full_model_name  \n",
              "0       LR_4e68bf17be194f6c97c602418326cba4  \n",
              "1       LR_4e68bf17be194f6c97c602418326cba4  \n",
              "2      SVM_2b8e7ef28381438d84df5226f588d763  \n",
              "3      SVM_2b8e7ef28381438d84df5226f588d763  \n",
              "4  CNN_2.0_bc40fc1ae5c545cc982a2930b8b6c57c  \n",
              "5  CNN_2.0_bc40fc1ae5c545cc982a2930b8b6c57c  "
            ],
            "text/html": [
              "\n",
              "  <div id=\"df-286e5e1b-c3a8-4246-9484-7bf47c5fbad6\">\n",
              "    <div class=\"colab-df-container\">\n",
              "      <div>\n",
              "<style scoped>\n",
              "    .dataframe tbody tr th:only-of-type {\n",
              "        vertical-align: middle;\n",
              "    }\n",
              "\n",
              "    .dataframe tbody tr th {\n",
              "        vertical-align: top;\n",
              "    }\n",
              "\n",
              "    .dataframe thead th {\n",
              "        text-align: right;\n",
              "    }\n",
              "</style>\n",
              "<table border=\"1\" class=\"dataframe\">\n",
              "  <thead>\n",
              "    <tr style=\"text-align: right;\">\n",
              "      <th></th>\n",
              "      <th>label</th>\n",
              "      <th>precision</th>\n",
              "      <th>recall</th>\n",
              "      <th>f1_score</th>\n",
              "      <th>support</th>\n",
              "      <th>accuracy</th>\n",
              "      <th>model_name</th>\n",
              "      <th>full_model_name</th>\n",
              "    </tr>\n",
              "  </thead>\n",
              "  <tbody>\n",
              "    <tr>\n",
              "      <th>0</th>\n",
              "      <td>0</td>\n",
              "      <td>1.000000</td>\n",
              "      <td>1.000000</td>\n",
              "      <td>1.000000</td>\n",
              "      <td>519.0</td>\n",
              "      <td>1.000000</td>\n",
              "      <td>LR</td>\n",
              "      <td>LR_4e68bf17be194f6c97c602418326cba4</td>\n",
              "    </tr>\n",
              "    <tr>\n",
              "      <th>1</th>\n",
              "      <td>1</td>\n",
              "      <td>1.000000</td>\n",
              "      <td>1.000000</td>\n",
              "      <td>1.000000</td>\n",
              "      <td>540.0</td>\n",
              "      <td>1.000000</td>\n",
              "      <td>LR</td>\n",
              "      <td>LR_4e68bf17be194f6c97c602418326cba4</td>\n",
              "    </tr>\n",
              "    <tr>\n",
              "      <th>2</th>\n",
              "      <td>0</td>\n",
              "      <td>0.957565</td>\n",
              "      <td>1.000000</td>\n",
              "      <td>0.978322</td>\n",
              "      <td>519.0</td>\n",
              "      <td>0.978281</td>\n",
              "      <td>SVM</td>\n",
              "      <td>SVM_2b8e7ef28381438d84df5226f588d763</td>\n",
              "    </tr>\n",
              "    <tr>\n",
              "      <th>3</th>\n",
              "      <td>1</td>\n",
              "      <td>1.000000</td>\n",
              "      <td>0.957407</td>\n",
              "      <td>0.978240</td>\n",
              "      <td>540.0</td>\n",
              "      <td>0.978281</td>\n",
              "      <td>SVM</td>\n",
              "      <td>SVM_2b8e7ef28381438d84df5226f588d763</td>\n",
              "    </tr>\n",
              "    <tr>\n",
              "      <th>4</th>\n",
              "      <td>0</td>\n",
              "      <td>0.939880</td>\n",
              "      <td>0.903661</td>\n",
              "      <td>0.921415</td>\n",
              "      <td>519.0</td>\n",
              "      <td>0.924457</td>\n",
              "      <td>CNN</td>\n",
              "      <td>CNN_2.0_bc40fc1ae5c545cc982a2930b8b6c57c</td>\n",
              "    </tr>\n",
              "    <tr>\n",
              "      <th>5</th>\n",
              "      <td>1</td>\n",
              "      <td>0.910714</td>\n",
              "      <td>0.944444</td>\n",
              "      <td>0.927273</td>\n",
              "      <td>540.0</td>\n",
              "      <td>0.924457</td>\n",
              "      <td>CNN</td>\n",
              "      <td>CNN_2.0_bc40fc1ae5c545cc982a2930b8b6c57c</td>\n",
              "    </tr>\n",
              "  </tbody>\n",
              "</table>\n",
              "</div>\n",
              "      <button class=\"colab-df-convert\" onclick=\"convertToInteractive('df-286e5e1b-c3a8-4246-9484-7bf47c5fbad6')\"\n",
              "              title=\"Convert this dataframe to an interactive table.\"\n",
              "              style=\"display:none;\">\n",
              "        \n",
              "  <svg xmlns=\"http://www.w3.org/2000/svg\" height=\"24px\"viewBox=\"0 0 24 24\"\n",
              "       width=\"24px\">\n",
              "    <path d=\"M0 0h24v24H0V0z\" fill=\"none\"/>\n",
              "    <path d=\"M18.56 5.44l.94 2.06.94-2.06 2.06-.94-2.06-.94-.94-2.06-.94 2.06-2.06.94zm-11 1L8.5 8.5l.94-2.06 2.06-.94-2.06-.94L8.5 2.5l-.94 2.06-2.06.94zm10 10l.94 2.06.94-2.06 2.06-.94-2.06-.94-.94-2.06-.94 2.06-2.06.94z\"/><path d=\"M17.41 7.96l-1.37-1.37c-.4-.4-.92-.59-1.43-.59-.52 0-1.04.2-1.43.59L10.3 9.45l-7.72 7.72c-.78.78-.78 2.05 0 2.83L4 21.41c.39.39.9.59 1.41.59.51 0 1.02-.2 1.41-.59l7.78-7.78 2.81-2.81c.8-.78.8-2.07 0-2.86zM5.41 20L4 18.59l7.72-7.72 1.47 1.35L5.41 20z\"/>\n",
              "  </svg>\n",
              "      </button>\n",
              "      \n",
              "  <style>\n",
              "    .colab-df-container {\n",
              "      display:flex;\n",
              "      flex-wrap:wrap;\n",
              "      gap: 12px;\n",
              "    }\n",
              "\n",
              "    .colab-df-convert {\n",
              "      background-color: #E8F0FE;\n",
              "      border: none;\n",
              "      border-radius: 50%;\n",
              "      cursor: pointer;\n",
              "      display: none;\n",
              "      fill: #1967D2;\n",
              "      height: 32px;\n",
              "      padding: 0 0 0 0;\n",
              "      width: 32px;\n",
              "    }\n",
              "\n",
              "    .colab-df-convert:hover {\n",
              "      background-color: #E2EBFA;\n",
              "      box-shadow: 0px 1px 2px rgba(60, 64, 67, 0.3), 0px 1px 3px 1px rgba(60, 64, 67, 0.15);\n",
              "      fill: #174EA6;\n",
              "    }\n",
              "\n",
              "    [theme=dark] .colab-df-convert {\n",
              "      background-color: #3B4455;\n",
              "      fill: #D2E3FC;\n",
              "    }\n",
              "\n",
              "    [theme=dark] .colab-df-convert:hover {\n",
              "      background-color: #434B5C;\n",
              "      box-shadow: 0px 1px 3px 1px rgba(0, 0, 0, 0.15);\n",
              "      filter: drop-shadow(0px 1px 2px rgba(0, 0, 0, 0.3));\n",
              "      fill: #FFFFFF;\n",
              "    }\n",
              "  </style>\n",
              "\n",
              "      <script>\n",
              "        const buttonEl =\n",
              "          document.querySelector('#df-286e5e1b-c3a8-4246-9484-7bf47c5fbad6 button.colab-df-convert');\n",
              "        buttonEl.style.display =\n",
              "          google.colab.kernel.accessAllowed ? 'block' : 'none';\n",
              "\n",
              "        async function convertToInteractive(key) {\n",
              "          const element = document.querySelector('#df-286e5e1b-c3a8-4246-9484-7bf47c5fbad6');\n",
              "          const dataTable =\n",
              "            await google.colab.kernel.invokeFunction('convertToInteractive',\n",
              "                                                     [key], {});\n",
              "          if (!dataTable) return;\n",
              "\n",
              "          const docLinkHtml = 'Like what you see? Visit the ' +\n",
              "            '<a target=\"_blank\" href=https://colab.research.google.com/notebooks/data_table.ipynb>data table notebook</a>'\n",
              "            + ' to learn more about interactive tables.';\n",
              "          element.innerHTML = '';\n",
              "          dataTable['output_type'] = 'display_data';\n",
              "          await google.colab.output.renderOutput(dataTable, element);\n",
              "          const docLink = document.createElement('div');\n",
              "          docLink.innerHTML = docLinkHtml;\n",
              "          element.appendChild(docLink);\n",
              "        }\n",
              "      </script>\n",
              "    </div>\n",
              "  </div>\n",
              "  "
            ]
          },
          "metadata": {}
        },
        {
          "output_type": "display_data",
          "data": {
            "text/html": [
              "<html>\n",
              "<head><meta charset=\"utf-8\" /></head>\n",
              "<body>\n",
              "    <div>            <script src=\"https://cdnjs.cloudflare.com/ajax/libs/mathjax/2.7.5/MathJax.js?config=TeX-AMS-MML_SVG\"></script><script type=\"text/javascript\">if (window.MathJax) {MathJax.Hub.Config({SVG: {font: \"STIX-Web\"}});}</script>                <script type=\"text/javascript\">window.PlotlyConfig = {MathJaxConfig: 'local'};</script>\n",
              "        <script src=\"https://cdn.plot.ly/plotly-2.8.3.min.js\"></script>                <div id=\"f2fefdb6-a94f-45b1-9fb9-c0925abfb6aa\" class=\"plotly-graph-div\" style=\"height:525px; width:100%;\"></div>            <script type=\"text/javascript\">                                    window.PLOTLYENV=window.PLOTLYENV || {};                                    if (document.getElementById(\"f2fefdb6-a94f-45b1-9fb9-c0925abfb6aa\")) {                    Plotly.newPlot(                        \"f2fefdb6-a94f-45b1-9fb9-c0925abfb6aa\",                        [{\"marker\":{\"color\":[\"gray\",\"gray\",\"gray\"]},\"showlegend\":false,\"text\":[100.0,97.83,92.45],\"textposition\":\"auto\",\"x\":[\"LR\",\"SVM\",\"CNN\"],\"y\":[100.0,97.83,92.45],\"type\":\"bar\",\"xaxis\":\"x\",\"yaxis\":\"y\"},{\"marker\":{\"color\":[\"blue\",\"blue\",\"blue\"]},\"name\":\"Sem fogo\",\"showlegend\":true,\"text\":[100.0,95.76,93.99],\"textposition\":\"auto\",\"x\":[\"LR\",\"SVM\",\"CNN\"],\"y\":[100.0,95.76,93.99],\"type\":\"bar\",\"xaxis\":\"x2\",\"yaxis\":\"y2\"},{\"marker\":{\"color\":[\"red\",\"red\",\"red\"]},\"name\":\"Com fogo\",\"showlegend\":true,\"text\":[100.0,100.0,91.07],\"textposition\":\"auto\",\"x\":[\"LR\",\"SVM\",\"CNN\"],\"y\":[100.0,100.0,91.07],\"type\":\"bar\",\"xaxis\":\"x2\",\"yaxis\":\"y2\"},{\"marker\":{\"color\":[\"blue\",\"blue\",\"blue\"]},\"name\":\"Sem fogo\",\"showlegend\":false,\"text\":[100.0,100.0,90.37],\"textposition\":\"auto\",\"x\":[\"LR\",\"SVM\",\"CNN\"],\"y\":[100.0,100.0,90.37],\"type\":\"bar\",\"xaxis\":\"x3\",\"yaxis\":\"y3\"},{\"marker\":{\"color\":[\"red\",\"red\",\"red\"]},\"name\":\"Com fogo\",\"showlegend\":false,\"text\":[100.0,95.74,94.44],\"textposition\":\"auto\",\"x\":[\"LR\",\"SVM\",\"CNN\"],\"y\":[100.0,95.74,94.44],\"type\":\"bar\",\"xaxis\":\"x3\",\"yaxis\":\"y3\"},{\"marker\":{\"color\":[\"blue\",\"blue\",\"blue\"]},\"name\":\"Sem fogo\",\"showlegend\":false,\"text\":[100.0,97.83,92.14],\"textposition\":\"auto\",\"x\":[\"LR\",\"SVM\",\"CNN\"],\"y\":[100.0,97.83,92.14],\"type\":\"bar\",\"xaxis\":\"x4\",\"yaxis\":\"y4\"},{\"marker\":{\"color\":[\"red\",\"red\",\"red\"]},\"name\":\"Com fogo\",\"showlegend\":false,\"text\":[100.0,97.82,92.73],\"textposition\":\"auto\",\"x\":[\"LR\",\"SVM\",\"CNN\"],\"y\":[100.0,97.82,92.73],\"type\":\"bar\",\"xaxis\":\"x4\",\"yaxis\":\"y4\"}],                        {\"template\":{\"data\":{\"bar\":[{\"error_x\":{\"color\":\"#2a3f5f\"},\"error_y\":{\"color\":\"#2a3f5f\"},\"marker\":{\"line\":{\"color\":\"#E5ECF6\",\"width\":0.5},\"pattern\":{\"fillmode\":\"overlay\",\"size\":10,\"solidity\":0.2}},\"type\":\"bar\"}],\"barpolar\":[{\"marker\":{\"line\":{\"color\":\"#E5ECF6\",\"width\":0.5},\"pattern\":{\"fillmode\":\"overlay\",\"size\":10,\"solidity\":0.2}},\"type\":\"barpolar\"}],\"carpet\":[{\"aaxis\":{\"endlinecolor\":\"#2a3f5f\",\"gridcolor\":\"white\",\"linecolor\":\"white\",\"minorgridcolor\":\"white\",\"startlinecolor\":\"#2a3f5f\"},\"baxis\":{\"endlinecolor\":\"#2a3f5f\",\"gridcolor\":\"white\",\"linecolor\":\"white\",\"minorgridcolor\":\"white\",\"startlinecolor\":\"#2a3f5f\"},\"type\":\"carpet\"}],\"choropleth\":[{\"colorbar\":{\"outlinewidth\":0,\"ticks\":\"\"},\"type\":\"choropleth\"}],\"contour\":[{\"colorbar\":{\"outlinewidth\":0,\"ticks\":\"\"},\"colorscale\":[[0.0,\"#0d0887\"],[0.1111111111111111,\"#46039f\"],[0.2222222222222222,\"#7201a8\"],[0.3333333333333333,\"#9c179e\"],[0.4444444444444444,\"#bd3786\"],[0.5555555555555556,\"#d8576b\"],[0.6666666666666666,\"#ed7953\"],[0.7777777777777778,\"#fb9f3a\"],[0.8888888888888888,\"#fdca26\"],[1.0,\"#f0f921\"]],\"type\":\"contour\"}],\"contourcarpet\":[{\"colorbar\":{\"outlinewidth\":0,\"ticks\":\"\"},\"type\":\"contourcarpet\"}],\"heatmap\":[{\"colorbar\":{\"outlinewidth\":0,\"ticks\":\"\"},\"colorscale\":[[0.0,\"#0d0887\"],[0.1111111111111111,\"#46039f\"],[0.2222222222222222,\"#7201a8\"],[0.3333333333333333,\"#9c179e\"],[0.4444444444444444,\"#bd3786\"],[0.5555555555555556,\"#d8576b\"],[0.6666666666666666,\"#ed7953\"],[0.7777777777777778,\"#fb9f3a\"],[0.8888888888888888,\"#fdca26\"],[1.0,\"#f0f921\"]],\"type\":\"heatmap\"}],\"heatmapgl\":[{\"colorbar\":{\"outlinewidth\":0,\"ticks\":\"\"},\"colorscale\":[[0.0,\"#0d0887\"],[0.1111111111111111,\"#46039f\"],[0.2222222222222222,\"#7201a8\"],[0.3333333333333333,\"#9c179e\"],[0.4444444444444444,\"#bd3786\"],[0.5555555555555556,\"#d8576b\"],[0.6666666666666666,\"#ed7953\"],[0.7777777777777778,\"#fb9f3a\"],[0.8888888888888888,\"#fdca26\"],[1.0,\"#f0f921\"]],\"type\":\"heatmapgl\"}],\"histogram\":[{\"marker\":{\"pattern\":{\"fillmode\":\"overlay\",\"size\":10,\"solidity\":0.2}},\"type\":\"histogram\"}],\"histogram2d\":[{\"colorbar\":{\"outlinewidth\":0,\"ticks\":\"\"},\"colorscale\":[[0.0,\"#0d0887\"],[0.1111111111111111,\"#46039f\"],[0.2222222222222222,\"#7201a8\"],[0.3333333333333333,\"#9c179e\"],[0.4444444444444444,\"#bd3786\"],[0.5555555555555556,\"#d8576b\"],[0.6666666666666666,\"#ed7953\"],[0.7777777777777778,\"#fb9f3a\"],[0.8888888888888888,\"#fdca26\"],[1.0,\"#f0f921\"]],\"type\":\"histogram2d\"}],\"histogram2dcontour\":[{\"colorbar\":{\"outlinewidth\":0,\"ticks\":\"\"},\"colorscale\":[[0.0,\"#0d0887\"],[0.1111111111111111,\"#46039f\"],[0.2222222222222222,\"#7201a8\"],[0.3333333333333333,\"#9c179e\"],[0.4444444444444444,\"#bd3786\"],[0.5555555555555556,\"#d8576b\"],[0.6666666666666666,\"#ed7953\"],[0.7777777777777778,\"#fb9f3a\"],[0.8888888888888888,\"#fdca26\"],[1.0,\"#f0f921\"]],\"type\":\"histogram2dcontour\"}],\"mesh3d\":[{\"colorbar\":{\"outlinewidth\":0,\"ticks\":\"\"},\"type\":\"mesh3d\"}],\"parcoords\":[{\"line\":{\"colorbar\":{\"outlinewidth\":0,\"ticks\":\"\"}},\"type\":\"parcoords\"}],\"pie\":[{\"automargin\":true,\"type\":\"pie\"}],\"scatter\":[{\"marker\":{\"colorbar\":{\"outlinewidth\":0,\"ticks\":\"\"}},\"type\":\"scatter\"}],\"scatter3d\":[{\"line\":{\"colorbar\":{\"outlinewidth\":0,\"ticks\":\"\"}},\"marker\":{\"colorbar\":{\"outlinewidth\":0,\"ticks\":\"\"}},\"type\":\"scatter3d\"}],\"scattercarpet\":[{\"marker\":{\"colorbar\":{\"outlinewidth\":0,\"ticks\":\"\"}},\"type\":\"scattercarpet\"}],\"scattergeo\":[{\"marker\":{\"colorbar\":{\"outlinewidth\":0,\"ticks\":\"\"}},\"type\":\"scattergeo\"}],\"scattergl\":[{\"marker\":{\"colorbar\":{\"outlinewidth\":0,\"ticks\":\"\"}},\"type\":\"scattergl\"}],\"scattermapbox\":[{\"marker\":{\"colorbar\":{\"outlinewidth\":0,\"ticks\":\"\"}},\"type\":\"scattermapbox\"}],\"scatterpolar\":[{\"marker\":{\"colorbar\":{\"outlinewidth\":0,\"ticks\":\"\"}},\"type\":\"scatterpolar\"}],\"scatterpolargl\":[{\"marker\":{\"colorbar\":{\"outlinewidth\":0,\"ticks\":\"\"}},\"type\":\"scatterpolargl\"}],\"scatterternary\":[{\"marker\":{\"colorbar\":{\"outlinewidth\":0,\"ticks\":\"\"}},\"type\":\"scatterternary\"}],\"surface\":[{\"colorbar\":{\"outlinewidth\":0,\"ticks\":\"\"},\"colorscale\":[[0.0,\"#0d0887\"],[0.1111111111111111,\"#46039f\"],[0.2222222222222222,\"#7201a8\"],[0.3333333333333333,\"#9c179e\"],[0.4444444444444444,\"#bd3786\"],[0.5555555555555556,\"#d8576b\"],[0.6666666666666666,\"#ed7953\"],[0.7777777777777778,\"#fb9f3a\"],[0.8888888888888888,\"#fdca26\"],[1.0,\"#f0f921\"]],\"type\":\"surface\"}],\"table\":[{\"cells\":{\"fill\":{\"color\":\"#EBF0F8\"},\"line\":{\"color\":\"white\"}},\"header\":{\"fill\":{\"color\":\"#C8D4E3\"},\"line\":{\"color\":\"white\"}},\"type\":\"table\"}]},\"layout\":{\"annotationdefaults\":{\"arrowcolor\":\"#2a3f5f\",\"arrowhead\":0,\"arrowwidth\":1},\"autotypenumbers\":\"strict\",\"coloraxis\":{\"colorbar\":{\"outlinewidth\":0,\"ticks\":\"\"}},\"colorscale\":{\"diverging\":[[0,\"#8e0152\"],[0.1,\"#c51b7d\"],[0.2,\"#de77ae\"],[0.3,\"#f1b6da\"],[0.4,\"#fde0ef\"],[0.5,\"#f7f7f7\"],[0.6,\"#e6f5d0\"],[0.7,\"#b8e186\"],[0.8,\"#7fbc41\"],[0.9,\"#4d9221\"],[1,\"#276419\"]],\"sequential\":[[0.0,\"#0d0887\"],[0.1111111111111111,\"#46039f\"],[0.2222222222222222,\"#7201a8\"],[0.3333333333333333,\"#9c179e\"],[0.4444444444444444,\"#bd3786\"],[0.5555555555555556,\"#d8576b\"],[0.6666666666666666,\"#ed7953\"],[0.7777777777777778,\"#fb9f3a\"],[0.8888888888888888,\"#fdca26\"],[1.0,\"#f0f921\"]],\"sequentialminus\":[[0.0,\"#0d0887\"],[0.1111111111111111,\"#46039f\"],[0.2222222222222222,\"#7201a8\"],[0.3333333333333333,\"#9c179e\"],[0.4444444444444444,\"#bd3786\"],[0.5555555555555556,\"#d8576b\"],[0.6666666666666666,\"#ed7953\"],[0.7777777777777778,\"#fb9f3a\"],[0.8888888888888888,\"#fdca26\"],[1.0,\"#f0f921\"]]},\"colorway\":[\"#636efa\",\"#EF553B\",\"#00cc96\",\"#ab63fa\",\"#FFA15A\",\"#19d3f3\",\"#FF6692\",\"#B6E880\",\"#FF97FF\",\"#FECB52\"],\"font\":{\"color\":\"#2a3f5f\"},\"geo\":{\"bgcolor\":\"white\",\"lakecolor\":\"white\",\"landcolor\":\"#E5ECF6\",\"showlakes\":true,\"showland\":true,\"subunitcolor\":\"white\"},\"hoverlabel\":{\"align\":\"left\"},\"hovermode\":\"closest\",\"mapbox\":{\"style\":\"light\"},\"paper_bgcolor\":\"white\",\"plot_bgcolor\":\"#E5ECF6\",\"polar\":{\"angularaxis\":{\"gridcolor\":\"white\",\"linecolor\":\"white\",\"ticks\":\"\"},\"bgcolor\":\"#E5ECF6\",\"radialaxis\":{\"gridcolor\":\"white\",\"linecolor\":\"white\",\"ticks\":\"\"}},\"scene\":{\"xaxis\":{\"backgroundcolor\":\"#E5ECF6\",\"gridcolor\":\"white\",\"gridwidth\":2,\"linecolor\":\"white\",\"showbackground\":true,\"ticks\":\"\",\"zerolinecolor\":\"white\"},\"yaxis\":{\"backgroundcolor\":\"#E5ECF6\",\"gridcolor\":\"white\",\"gridwidth\":2,\"linecolor\":\"white\",\"showbackground\":true,\"ticks\":\"\",\"zerolinecolor\":\"white\"},\"zaxis\":{\"backgroundcolor\":\"#E5ECF6\",\"gridcolor\":\"white\",\"gridwidth\":2,\"linecolor\":\"white\",\"showbackground\":true,\"ticks\":\"\",\"zerolinecolor\":\"white\"}},\"shapedefaults\":{\"line\":{\"color\":\"#2a3f5f\"}},\"ternary\":{\"aaxis\":{\"gridcolor\":\"white\",\"linecolor\":\"white\",\"ticks\":\"\"},\"baxis\":{\"gridcolor\":\"white\",\"linecolor\":\"white\",\"ticks\":\"\"},\"bgcolor\":\"#E5ECF6\",\"caxis\":{\"gridcolor\":\"white\",\"linecolor\":\"white\",\"ticks\":\"\"}},\"title\":{\"x\":0.05},\"xaxis\":{\"automargin\":true,\"gridcolor\":\"white\",\"linecolor\":\"white\",\"ticks\":\"\",\"title\":{\"standoff\":15},\"zerolinecolor\":\"white\",\"zerolinewidth\":2},\"yaxis\":{\"automargin\":true,\"gridcolor\":\"white\",\"linecolor\":\"white\",\"ticks\":\"\",\"title\":{\"standoff\":15},\"zerolinecolor\":\"white\",\"zerolinewidth\":2}}},\"xaxis\":{\"anchor\":\"y\",\"domain\":[0.0,0.45]},\"yaxis\":{\"anchor\":\"x\",\"domain\":[0.625,1.0]},\"xaxis2\":{\"anchor\":\"y2\",\"domain\":[0.55,1.0]},\"yaxis2\":{\"anchor\":\"x2\",\"domain\":[0.625,1.0]},\"xaxis3\":{\"anchor\":\"y3\",\"domain\":[0.0,0.45]},\"yaxis3\":{\"anchor\":\"x3\",\"domain\":[0.0,0.375]},\"xaxis4\":{\"anchor\":\"y4\",\"domain\":[0.55,1.0]},\"yaxis4\":{\"anchor\":\"x4\",\"domain\":[0.0,0.375]},\"annotations\":[{\"font\":{\"size\":16},\"showarrow\":false,\"text\":\"Accuracy\",\"x\":0.225,\"xanchor\":\"center\",\"xref\":\"paper\",\"y\":1.0,\"yanchor\":\"bottom\",\"yref\":\"paper\"},{\"font\":{\"size\":16},\"showarrow\":false,\"text\":\"Precision\",\"x\":0.775,\"xanchor\":\"center\",\"xref\":\"paper\",\"y\":1.0,\"yanchor\":\"bottom\",\"yref\":\"paper\"},{\"font\":{\"size\":16},\"showarrow\":false,\"text\":\"Recall\",\"x\":0.225,\"xanchor\":\"center\",\"xref\":\"paper\",\"y\":0.375,\"yanchor\":\"bottom\",\"yref\":\"paper\"},{\"font\":{\"size\":16},\"showarrow\":false,\"text\":\"F1 Score\",\"x\":0.775,\"xanchor\":\"center\",\"xref\":\"paper\",\"y\":0.375,\"yanchor\":\"bottom\",\"yref\":\"paper\"}],\"title\":{\"text\":\"[Teste] - M\\u00e9tricas de avalia\\u00e7\\u00e3o dos modelos\"}},                        {\"responsive\": true}                    ).then(function(){\n",
              "                            \n",
              "var gd = document.getElementById('f2fefdb6-a94f-45b1-9fb9-c0925abfb6aa');\n",
              "var x = new MutationObserver(function (mutations, observer) {{\n",
              "        var display = window.getComputedStyle(gd).display;\n",
              "        if (!display || display === 'none') {{\n",
              "            console.log([gd, 'removed!']);\n",
              "            Plotly.purge(gd);\n",
              "            observer.disconnect();\n",
              "        }}\n",
              "}});\n",
              "\n",
              "// Listen for the removal of the full notebook cells\n",
              "var notebookContainer = gd.closest('#notebook-container');\n",
              "if (notebookContainer) {{\n",
              "    x.observe(notebookContainer, {childList: true});\n",
              "}}\n",
              "\n",
              "// Listen for the clearing of the current output cell\n",
              "var outputEl = gd.closest('.output');\n",
              "if (outputEl) {{\n",
              "    x.observe(outputEl, {childList: true});\n",
              "}}\n",
              "\n",
              "                        })                };                            </script>        </div>\n",
              "</body>\n",
              "</html>"
            ]
          },
          "metadata": {}
        }
      ]
    },
    {
      "cell_type": "markdown",
      "source": [
        "![test_metrics.png](data:image/png;base64,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)"
      ],
      "metadata": {
        "id": "2Mbe2V249tsM"
      }
    }
  ]
}